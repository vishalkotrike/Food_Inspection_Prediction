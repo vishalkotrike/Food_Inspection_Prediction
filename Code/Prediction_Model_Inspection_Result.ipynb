{
  "nbformat": 4,
  "nbformat_minor": 0,
  "metadata": {
    "colab": {
      "provenance": []
    },
    "kernelspec": {
      "name": "python3",
      "display_name": "Python 3"
    },
    "language_info": {
      "name": "python"
    }
  },
  "cells": [
    {
      "cell_type": "markdown",
      "source": [
        "# Model to predict Inspection result type for the Facilities"
      ],
      "metadata": {
        "id": "cTc4PtoGaUfb"
      }
    },
    {
      "cell_type": "code",
      "execution_count": 1,
      "metadata": {
        "id": "QU7QZn4q1yzV"
      },
      "outputs": [],
      "source": [
        "import plotly\n",
        "import plotly.offline as pyo\n",
        "from plotly.offline import iplot\n",
        "import datetime\n",
        "import numpy as np\n",
        "import matplotlib.pyplot as plt\n",
        "import seaborn as sns\n",
        "import warnings\n",
        "import pandas as pd\n",
        "import plotly.graph_objects as go"
      ]
    },
    {
      "cell_type": "code",
      "source": [
        "warnings.filterwarnings('ignore')"
      ],
      "metadata": {
        "id": "zyKaosMO6kxs"
      },
      "execution_count": 2,
      "outputs": []
    },
    {
      "cell_type": "code",
      "source": [
        "from google.colab import drive\n",
        "drive.mount('/content/drive')"
      ],
      "metadata": {
        "id": "BczO4TTlC6CM",
        "colab": {
          "base_uri": "https://localhost:8080/"
        },
        "outputId": "cd962a64-f9e3-4093-a18d-81290ed7616e"
      },
      "execution_count": 3,
      "outputs": [
        {
          "output_type": "stream",
          "name": "stdout",
          "text": [
            "Mounted at /content/drive\n"
          ]
        }
      ]
    },
    {
      "cell_type": "code",
      "source": [
        "# file_name = 'Food_Inspections.csv'\n",
        "df = pd.read_csv('/content/drive/MyDrive/Final_Project_602/Food_Inspections.csv')"
      ],
      "metadata": {
        "id": "JDxDtOh86rG6"
      },
      "execution_count": 4,
      "outputs": []
    },
    {
      "cell_type": "code",
      "source": [
        "# Display the first few rows of the DataFrame\n",
        "df.head()\n"
      ],
      "metadata": {
        "colab": {
          "base_uri": "https://localhost:8080/",
          "height": 487
        },
        "id": "1ZTwtETRiFCs",
        "outputId": "1ab0d529-e5b1-46ff-ff9f-f942002ef6ae"
      },
      "execution_count": 5,
      "outputs": [
        {
          "output_type": "execute_result",
          "data": {
            "text/plain": [
              "   Inspection ID                        DBA Name                    AKA Name  \\\n",
              "0        2586057             ANGELINA RISTORANTE         ANGELINA RISTORANTE   \n",
              "1        2586039                RIVERSIDE MARKET            RIVERSIDE MARKET   \n",
              "2        2586041                RIVERSIDE MARKET            RIVERSIDE MARKET   \n",
              "3        2586011                    PILSEN YARDS   PILSEN YARDS/THE ALDERMAN   \n",
              "4        2585952  MS. B'S KITCHEN & CATERING LLC  MS. B'S KITCHEN & CATERING   \n",
              "\n",
              "   License #  Facility Type           Risk               Address     City  \\\n",
              "0    14788.0     Restaurant  Risk 1 (High)      3561 N BROADWAY   CHICAGO   \n",
              "1  2934974.0  Grocery Store  Risk 1 (High)    1240 N HALSTED ST   Chicago   \n",
              "2  2934975.0  Grocery Store   Risk 3 (Low)    1240 N HALSTED ST   Chicago   \n",
              "3  2548908.0     Restaurant  Risk 1 (High)  1159-1163 W 18TH ST   CHICAGO   \n",
              "4  2631695.0     Restaurant  Risk 1 (High)     4203 W CERMAK RD   CHICAGO   \n",
              "\n",
              "  State      Zip Inspection Date        Inspection Type          Results  \\\n",
              "0    IL  60657.0      11/30/2023  Canvass Re-Inspection             Pass   \n",
              "1    IL  60642.0      11/30/2023                License        Not Ready   \n",
              "2    IL  60642.0      11/30/2023                License        Not Ready   \n",
              "3    IL  60608.0      11/29/2023  Canvass Re-Inspection             Fail   \n",
              "4    IL  60623.0      11/29/2023                Canvass  Out of Business   \n",
              "\n",
              "                                          Violations   Latitude  Longitude  \\\n",
              "0                                                NaN  41.947205 -87.647027   \n",
              "1                                                NaN  41.904707 -87.648270   \n",
              "2                                                NaN  41.904707 -87.648270   \n",
              "3  60. PREVIOUS CORE VIOLATION CORRECTED - Commen...  41.857859 -87.655509   \n",
              "4                                                NaN  41.851366 -87.729766   \n",
              "\n",
              "                                   Location  \n",
              "0   (41.94720549468551, -87.64702664696026)  \n",
              "1  (41.904706963144406, -87.64827036474287)  \n",
              "2  (41.904706963144406, -87.64827036474287)  \n",
              "3    (41.8578590994683, -87.65550935859257)  \n",
              "4    (41.8513662093141, -87.72976631700914)  "
            ],
            "text/html": [
              "\n",
              "  <div id=\"df-ee7adcaf-9e02-40de-99fc-1ea0ec8b83d7\" class=\"colab-df-container\">\n",
              "    <div>\n",
              "<style scoped>\n",
              "    .dataframe tbody tr th:only-of-type {\n",
              "        vertical-align: middle;\n",
              "    }\n",
              "\n",
              "    .dataframe tbody tr th {\n",
              "        vertical-align: top;\n",
              "    }\n",
              "\n",
              "    .dataframe thead th {\n",
              "        text-align: right;\n",
              "    }\n",
              "</style>\n",
              "<table border=\"1\" class=\"dataframe\">\n",
              "  <thead>\n",
              "    <tr style=\"text-align: right;\">\n",
              "      <th></th>\n",
              "      <th>Inspection ID</th>\n",
              "      <th>DBA Name</th>\n",
              "      <th>AKA Name</th>\n",
              "      <th>License #</th>\n",
              "      <th>Facility Type</th>\n",
              "      <th>Risk</th>\n",
              "      <th>Address</th>\n",
              "      <th>City</th>\n",
              "      <th>State</th>\n",
              "      <th>Zip</th>\n",
              "      <th>Inspection Date</th>\n",
              "      <th>Inspection Type</th>\n",
              "      <th>Results</th>\n",
              "      <th>Violations</th>\n",
              "      <th>Latitude</th>\n",
              "      <th>Longitude</th>\n",
              "      <th>Location</th>\n",
              "    </tr>\n",
              "  </thead>\n",
              "  <tbody>\n",
              "    <tr>\n",
              "      <th>0</th>\n",
              "      <td>2586057</td>\n",
              "      <td>ANGELINA RISTORANTE</td>\n",
              "      <td>ANGELINA RISTORANTE</td>\n",
              "      <td>14788.0</td>\n",
              "      <td>Restaurant</td>\n",
              "      <td>Risk 1 (High)</td>\n",
              "      <td>3561 N BROADWAY</td>\n",
              "      <td>CHICAGO</td>\n",
              "      <td>IL</td>\n",
              "      <td>60657.0</td>\n",
              "      <td>11/30/2023</td>\n",
              "      <td>Canvass Re-Inspection</td>\n",
              "      <td>Pass</td>\n",
              "      <td>NaN</td>\n",
              "      <td>41.947205</td>\n",
              "      <td>-87.647027</td>\n",
              "      <td>(41.94720549468551, -87.64702664696026)</td>\n",
              "    </tr>\n",
              "    <tr>\n",
              "      <th>1</th>\n",
              "      <td>2586039</td>\n",
              "      <td>RIVERSIDE MARKET</td>\n",
              "      <td>RIVERSIDE MARKET</td>\n",
              "      <td>2934974.0</td>\n",
              "      <td>Grocery Store</td>\n",
              "      <td>Risk 1 (High)</td>\n",
              "      <td>1240 N HALSTED ST</td>\n",
              "      <td>Chicago</td>\n",
              "      <td>IL</td>\n",
              "      <td>60642.0</td>\n",
              "      <td>11/30/2023</td>\n",
              "      <td>License</td>\n",
              "      <td>Not Ready</td>\n",
              "      <td>NaN</td>\n",
              "      <td>41.904707</td>\n",
              "      <td>-87.648270</td>\n",
              "      <td>(41.904706963144406, -87.64827036474287)</td>\n",
              "    </tr>\n",
              "    <tr>\n",
              "      <th>2</th>\n",
              "      <td>2586041</td>\n",
              "      <td>RIVERSIDE MARKET</td>\n",
              "      <td>RIVERSIDE MARKET</td>\n",
              "      <td>2934975.0</td>\n",
              "      <td>Grocery Store</td>\n",
              "      <td>Risk 3 (Low)</td>\n",
              "      <td>1240 N HALSTED ST</td>\n",
              "      <td>Chicago</td>\n",
              "      <td>IL</td>\n",
              "      <td>60642.0</td>\n",
              "      <td>11/30/2023</td>\n",
              "      <td>License</td>\n",
              "      <td>Not Ready</td>\n",
              "      <td>NaN</td>\n",
              "      <td>41.904707</td>\n",
              "      <td>-87.648270</td>\n",
              "      <td>(41.904706963144406, -87.64827036474287)</td>\n",
              "    </tr>\n",
              "    <tr>\n",
              "      <th>3</th>\n",
              "      <td>2586011</td>\n",
              "      <td>PILSEN YARDS</td>\n",
              "      <td>PILSEN YARDS/THE ALDERMAN</td>\n",
              "      <td>2548908.0</td>\n",
              "      <td>Restaurant</td>\n",
              "      <td>Risk 1 (High)</td>\n",
              "      <td>1159-1163 W 18TH ST</td>\n",
              "      <td>CHICAGO</td>\n",
              "      <td>IL</td>\n",
              "      <td>60608.0</td>\n",
              "      <td>11/29/2023</td>\n",
              "      <td>Canvass Re-Inspection</td>\n",
              "      <td>Fail</td>\n",
              "      <td>60. PREVIOUS CORE VIOLATION CORRECTED - Commen...</td>\n",
              "      <td>41.857859</td>\n",
              "      <td>-87.655509</td>\n",
              "      <td>(41.8578590994683, -87.65550935859257)</td>\n",
              "    </tr>\n",
              "    <tr>\n",
              "      <th>4</th>\n",
              "      <td>2585952</td>\n",
              "      <td>MS. B'S KITCHEN &amp; CATERING LLC</td>\n",
              "      <td>MS. B'S KITCHEN &amp; CATERING</td>\n",
              "      <td>2631695.0</td>\n",
              "      <td>Restaurant</td>\n",
              "      <td>Risk 1 (High)</td>\n",
              "      <td>4203 W CERMAK RD</td>\n",
              "      <td>CHICAGO</td>\n",
              "      <td>IL</td>\n",
              "      <td>60623.0</td>\n",
              "      <td>11/29/2023</td>\n",
              "      <td>Canvass</td>\n",
              "      <td>Out of Business</td>\n",
              "      <td>NaN</td>\n",
              "      <td>41.851366</td>\n",
              "      <td>-87.729766</td>\n",
              "      <td>(41.8513662093141, -87.72976631700914)</td>\n",
              "    </tr>\n",
              "  </tbody>\n",
              "</table>\n",
              "</div>\n",
              "    <div class=\"colab-df-buttons\">\n",
              "\n",
              "  <div class=\"colab-df-container\">\n",
              "    <button class=\"colab-df-convert\" onclick=\"convertToInteractive('df-ee7adcaf-9e02-40de-99fc-1ea0ec8b83d7')\"\n",
              "            title=\"Convert this dataframe to an interactive table.\"\n",
              "            style=\"display:none;\">\n",
              "\n",
              "  <svg xmlns=\"http://www.w3.org/2000/svg\" height=\"24px\" viewBox=\"0 -960 960 960\">\n",
              "    <path d=\"M120-120v-720h720v720H120Zm60-500h600v-160H180v160Zm220 220h160v-160H400v160Zm0 220h160v-160H400v160ZM180-400h160v-160H180v160Zm440 0h160v-160H620v160ZM180-180h160v-160H180v160Zm440 0h160v-160H620v160Z\"/>\n",
              "  </svg>\n",
              "    </button>\n",
              "\n",
              "  <style>\n",
              "    .colab-df-container {\n",
              "      display:flex;\n",
              "      gap: 12px;\n",
              "    }\n",
              "\n",
              "    .colab-df-convert {\n",
              "      background-color: #E8F0FE;\n",
              "      border: none;\n",
              "      border-radius: 50%;\n",
              "      cursor: pointer;\n",
              "      display: none;\n",
              "      fill: #1967D2;\n",
              "      height: 32px;\n",
              "      padding: 0 0 0 0;\n",
              "      width: 32px;\n",
              "    }\n",
              "\n",
              "    .colab-df-convert:hover {\n",
              "      background-color: #E2EBFA;\n",
              "      box-shadow: 0px 1px 2px rgba(60, 64, 67, 0.3), 0px 1px 3px 1px rgba(60, 64, 67, 0.15);\n",
              "      fill: #174EA6;\n",
              "    }\n",
              "\n",
              "    .colab-df-buttons div {\n",
              "      margin-bottom: 4px;\n",
              "    }\n",
              "\n",
              "    [theme=dark] .colab-df-convert {\n",
              "      background-color: #3B4455;\n",
              "      fill: #D2E3FC;\n",
              "    }\n",
              "\n",
              "    [theme=dark] .colab-df-convert:hover {\n",
              "      background-color: #434B5C;\n",
              "      box-shadow: 0px 1px 3px 1px rgba(0, 0, 0, 0.15);\n",
              "      filter: drop-shadow(0px 1px 2px rgba(0, 0, 0, 0.3));\n",
              "      fill: #FFFFFF;\n",
              "    }\n",
              "  </style>\n",
              "\n",
              "    <script>\n",
              "      const buttonEl =\n",
              "        document.querySelector('#df-ee7adcaf-9e02-40de-99fc-1ea0ec8b83d7 button.colab-df-convert');\n",
              "      buttonEl.style.display =\n",
              "        google.colab.kernel.accessAllowed ? 'block' : 'none';\n",
              "\n",
              "      async function convertToInteractive(key) {\n",
              "        const element = document.querySelector('#df-ee7adcaf-9e02-40de-99fc-1ea0ec8b83d7');\n",
              "        const dataTable =\n",
              "          await google.colab.kernel.invokeFunction('convertToInteractive',\n",
              "                                                    [key], {});\n",
              "        if (!dataTable) return;\n",
              "\n",
              "        const docLinkHtml = 'Like what you see? Visit the ' +\n",
              "          '<a target=\"_blank\" href=https://colab.research.google.com/notebooks/data_table.ipynb>data table notebook</a>'\n",
              "          + ' to learn more about interactive tables.';\n",
              "        element.innerHTML = '';\n",
              "        dataTable['output_type'] = 'display_data';\n",
              "        await google.colab.output.renderOutput(dataTable, element);\n",
              "        const docLink = document.createElement('div');\n",
              "        docLink.innerHTML = docLinkHtml;\n",
              "        element.appendChild(docLink);\n",
              "      }\n",
              "    </script>\n",
              "  </div>\n",
              "\n",
              "\n",
              "<div id=\"df-c2ca5ed2-3757-41eb-b359-1c1280b5e563\">\n",
              "  <button class=\"colab-df-quickchart\" onclick=\"quickchart('df-c2ca5ed2-3757-41eb-b359-1c1280b5e563')\"\n",
              "            title=\"Suggest charts\"\n",
              "            style=\"display:none;\">\n",
              "\n",
              "<svg xmlns=\"http://www.w3.org/2000/svg\" height=\"24px\"viewBox=\"0 0 24 24\"\n",
              "     width=\"24px\">\n",
              "    <g>\n",
              "        <path d=\"M19 3H5c-1.1 0-2 .9-2 2v14c0 1.1.9 2 2 2h14c1.1 0 2-.9 2-2V5c0-1.1-.9-2-2-2zM9 17H7v-7h2v7zm4 0h-2V7h2v10zm4 0h-2v-4h2v4z\"/>\n",
              "    </g>\n",
              "</svg>\n",
              "  </button>\n",
              "\n",
              "<style>\n",
              "  .colab-df-quickchart {\n",
              "      --bg-color: #E8F0FE;\n",
              "      --fill-color: #1967D2;\n",
              "      --hover-bg-color: #E2EBFA;\n",
              "      --hover-fill-color: #174EA6;\n",
              "      --disabled-fill-color: #AAA;\n",
              "      --disabled-bg-color: #DDD;\n",
              "  }\n",
              "\n",
              "  [theme=dark] .colab-df-quickchart {\n",
              "      --bg-color: #3B4455;\n",
              "      --fill-color: #D2E3FC;\n",
              "      --hover-bg-color: #434B5C;\n",
              "      --hover-fill-color: #FFFFFF;\n",
              "      --disabled-bg-color: #3B4455;\n",
              "      --disabled-fill-color: #666;\n",
              "  }\n",
              "\n",
              "  .colab-df-quickchart {\n",
              "    background-color: var(--bg-color);\n",
              "    border: none;\n",
              "    border-radius: 50%;\n",
              "    cursor: pointer;\n",
              "    display: none;\n",
              "    fill: var(--fill-color);\n",
              "    height: 32px;\n",
              "    padding: 0;\n",
              "    width: 32px;\n",
              "  }\n",
              "\n",
              "  .colab-df-quickchart:hover {\n",
              "    background-color: var(--hover-bg-color);\n",
              "    box-shadow: 0 1px 2px rgba(60, 64, 67, 0.3), 0 1px 3px 1px rgba(60, 64, 67, 0.15);\n",
              "    fill: var(--button-hover-fill-color);\n",
              "  }\n",
              "\n",
              "  .colab-df-quickchart-complete:disabled,\n",
              "  .colab-df-quickchart-complete:disabled:hover {\n",
              "    background-color: var(--disabled-bg-color);\n",
              "    fill: var(--disabled-fill-color);\n",
              "    box-shadow: none;\n",
              "  }\n",
              "\n",
              "  .colab-df-spinner {\n",
              "    border: 2px solid var(--fill-color);\n",
              "    border-color: transparent;\n",
              "    border-bottom-color: var(--fill-color);\n",
              "    animation:\n",
              "      spin 1s steps(1) infinite;\n",
              "  }\n",
              "\n",
              "  @keyframes spin {\n",
              "    0% {\n",
              "      border-color: transparent;\n",
              "      border-bottom-color: var(--fill-color);\n",
              "      border-left-color: var(--fill-color);\n",
              "    }\n",
              "    20% {\n",
              "      border-color: transparent;\n",
              "      border-left-color: var(--fill-color);\n",
              "      border-top-color: var(--fill-color);\n",
              "    }\n",
              "    30% {\n",
              "      border-color: transparent;\n",
              "      border-left-color: var(--fill-color);\n",
              "      border-top-color: var(--fill-color);\n",
              "      border-right-color: var(--fill-color);\n",
              "    }\n",
              "    40% {\n",
              "      border-color: transparent;\n",
              "      border-right-color: var(--fill-color);\n",
              "      border-top-color: var(--fill-color);\n",
              "    }\n",
              "    60% {\n",
              "      border-color: transparent;\n",
              "      border-right-color: var(--fill-color);\n",
              "    }\n",
              "    80% {\n",
              "      border-color: transparent;\n",
              "      border-right-color: var(--fill-color);\n",
              "      border-bottom-color: var(--fill-color);\n",
              "    }\n",
              "    90% {\n",
              "      border-color: transparent;\n",
              "      border-bottom-color: var(--fill-color);\n",
              "    }\n",
              "  }\n",
              "</style>\n",
              "\n",
              "  <script>\n",
              "    async function quickchart(key) {\n",
              "      const quickchartButtonEl =\n",
              "        document.querySelector('#' + key + ' button');\n",
              "      quickchartButtonEl.disabled = true;  // To prevent multiple clicks.\n",
              "      quickchartButtonEl.classList.add('colab-df-spinner');\n",
              "      try {\n",
              "        const charts = await google.colab.kernel.invokeFunction(\n",
              "            'suggestCharts', [key], {});\n",
              "      } catch (error) {\n",
              "        console.error('Error during call to suggestCharts:', error);\n",
              "      }\n",
              "      quickchartButtonEl.classList.remove('colab-df-spinner');\n",
              "      quickchartButtonEl.classList.add('colab-df-quickchart-complete');\n",
              "    }\n",
              "    (() => {\n",
              "      let quickchartButtonEl =\n",
              "        document.querySelector('#df-c2ca5ed2-3757-41eb-b359-1c1280b5e563 button');\n",
              "      quickchartButtonEl.style.display =\n",
              "        google.colab.kernel.accessAllowed ? 'block' : 'none';\n",
              "    })();\n",
              "  </script>\n",
              "</div>\n",
              "    </div>\n",
              "  </div>\n"
            ]
          },
          "metadata": {},
          "execution_count": 5
        }
      ]
    },
    {
      "cell_type": "code",
      "source": [
        "# Information of the datafset\n",
        "df.info()"
      ],
      "metadata": {
        "id": "ISfp8C6yLw9M",
        "colab": {
          "base_uri": "https://localhost:8080/"
        },
        "outputId": "7d163241-d835-4ede-eb93-8278c21382bd"
      },
      "execution_count": 6,
      "outputs": [
        {
          "output_type": "stream",
          "name": "stdout",
          "text": [
            "<class 'pandas.core.frame.DataFrame'>\n",
            "RangeIndex: 264030 entries, 0 to 264029\n",
            "Data columns (total 17 columns):\n",
            " #   Column           Non-Null Count   Dtype  \n",
            "---  ------           --------------   -----  \n",
            " 0   Inspection ID    264030 non-null  int64  \n",
            " 1   DBA Name         264030 non-null  object \n",
            " 2   AKA Name         261550 non-null  object \n",
            " 3   License #        264022 non-null  float64\n",
            " 4   Facility Type    258918 non-null  object \n",
            " 5   Risk             263951 non-null  object \n",
            " 6   Address          264030 non-null  object \n",
            " 7   City             263845 non-null  object \n",
            " 8   State            263971 non-null  object \n",
            " 9   Zip              263948 non-null  float64\n",
            " 10  Inspection Date  264030 non-null  object \n",
            " 11  Inspection Type  264029 non-null  object \n",
            " 12  Results          264030 non-null  object \n",
            " 13  Violations       191759 non-null  object \n",
            " 14  Latitude         263128 non-null  float64\n",
            " 15  Longitude        263128 non-null  float64\n",
            " 16  Location         263128 non-null  object \n",
            "dtypes: float64(4), int64(1), object(12)\n",
            "memory usage: 34.2+ MB\n"
          ]
        }
      ]
    },
    {
      "cell_type": "markdown",
      "source": [
        "# Data Cleaning and Preparation"
      ],
      "metadata": {
        "id": "H8wj8kLUFnFa"
      }
    },
    {
      "cell_type": "markdown",
      "source": [
        "As a part of Data Preparation for Modelling, removing the unnecessary fields from data"
      ],
      "metadata": {
        "id": "GRR57-srgTFi"
      }
    },
    {
      "cell_type": "code",
      "source": [
        "# Get unique values in the \"Results\" column\n",
        "results_unique = df['Results'].unique()\n",
        "\n",
        "# Print the unique values\n",
        "print(\"Unique Results:\", results_unique)\n",
        "\n",
        "#Considering Pass w/ Conditons into Pass to maintain weights bias\n",
        "df['Results'] = df['Results'].replace('Pass w/ Conditions', 'Pass')\n",
        "\n",
        "# Verify the changes\n",
        "print(\"Unique Results after replacement:\", df['Results'].unique())"
      ],
      "metadata": {
        "id": "pmMYiEvqf4IX",
        "colab": {
          "base_uri": "https://localhost:8080/"
        },
        "outputId": "f2faf9ad-8e17-4fe9-f96c-20db73900a63"
      },
      "execution_count": 7,
      "outputs": [
        {
          "output_type": "stream",
          "name": "stdout",
          "text": [
            "Unique Results: ['Pass' 'Not Ready' 'Fail' 'Out of Business' 'No Entry'\n",
            " 'Pass w/ Conditions' 'Business Not Located']\n",
            "Unique Results after replacement: ['Pass' 'Not Ready' 'Fail' 'Out of Business' 'No Entry'\n",
            " 'Business Not Located']\n"
          ]
        }
      ]
    },
    {
      "cell_type": "code",
      "source": [
        "columns_to_drop = ['Violations', 'DBA Name', 'AKA Name','Address','City','State','Zip','Inspection Date','Latitude','Longitude','Location','License #','Inspection ID']\n",
        "\n",
        "df.drop(columns=columns_to_drop, inplace=True)"
      ],
      "metadata": {
        "id": "0KhgBe-Wj5Up"
      },
      "execution_count": 8,
      "outputs": []
    },
    {
      "cell_type": "code",
      "source": [
        "df.head()"
      ],
      "metadata": {
        "id": "XVncleJ-lHt9",
        "colab": {
          "base_uri": "https://localhost:8080/",
          "height": 206
        },
        "outputId": "6ae69163-ca3c-4d1f-fdc9-49f0225fca40"
      },
      "execution_count": 9,
      "outputs": [
        {
          "output_type": "execute_result",
          "data": {
            "text/plain": [
              "   Facility Type           Risk        Inspection Type          Results\n",
              "0     Restaurant  Risk 1 (High)  Canvass Re-Inspection             Pass\n",
              "1  Grocery Store  Risk 1 (High)                License        Not Ready\n",
              "2  Grocery Store   Risk 3 (Low)                License        Not Ready\n",
              "3     Restaurant  Risk 1 (High)  Canvass Re-Inspection             Fail\n",
              "4     Restaurant  Risk 1 (High)                Canvass  Out of Business"
            ],
            "text/html": [
              "\n",
              "  <div id=\"df-6409b744-cf9c-4654-9aff-021af568aea3\" class=\"colab-df-container\">\n",
              "    <div>\n",
              "<style scoped>\n",
              "    .dataframe tbody tr th:only-of-type {\n",
              "        vertical-align: middle;\n",
              "    }\n",
              "\n",
              "    .dataframe tbody tr th {\n",
              "        vertical-align: top;\n",
              "    }\n",
              "\n",
              "    .dataframe thead th {\n",
              "        text-align: right;\n",
              "    }\n",
              "</style>\n",
              "<table border=\"1\" class=\"dataframe\">\n",
              "  <thead>\n",
              "    <tr style=\"text-align: right;\">\n",
              "      <th></th>\n",
              "      <th>Facility Type</th>\n",
              "      <th>Risk</th>\n",
              "      <th>Inspection Type</th>\n",
              "      <th>Results</th>\n",
              "    </tr>\n",
              "  </thead>\n",
              "  <tbody>\n",
              "    <tr>\n",
              "      <th>0</th>\n",
              "      <td>Restaurant</td>\n",
              "      <td>Risk 1 (High)</td>\n",
              "      <td>Canvass Re-Inspection</td>\n",
              "      <td>Pass</td>\n",
              "    </tr>\n",
              "    <tr>\n",
              "      <th>1</th>\n",
              "      <td>Grocery Store</td>\n",
              "      <td>Risk 1 (High)</td>\n",
              "      <td>License</td>\n",
              "      <td>Not Ready</td>\n",
              "    </tr>\n",
              "    <tr>\n",
              "      <th>2</th>\n",
              "      <td>Grocery Store</td>\n",
              "      <td>Risk 3 (Low)</td>\n",
              "      <td>License</td>\n",
              "      <td>Not Ready</td>\n",
              "    </tr>\n",
              "    <tr>\n",
              "      <th>3</th>\n",
              "      <td>Restaurant</td>\n",
              "      <td>Risk 1 (High)</td>\n",
              "      <td>Canvass Re-Inspection</td>\n",
              "      <td>Fail</td>\n",
              "    </tr>\n",
              "    <tr>\n",
              "      <th>4</th>\n",
              "      <td>Restaurant</td>\n",
              "      <td>Risk 1 (High)</td>\n",
              "      <td>Canvass</td>\n",
              "      <td>Out of Business</td>\n",
              "    </tr>\n",
              "  </tbody>\n",
              "</table>\n",
              "</div>\n",
              "    <div class=\"colab-df-buttons\">\n",
              "\n",
              "  <div class=\"colab-df-container\">\n",
              "    <button class=\"colab-df-convert\" onclick=\"convertToInteractive('df-6409b744-cf9c-4654-9aff-021af568aea3')\"\n",
              "            title=\"Convert this dataframe to an interactive table.\"\n",
              "            style=\"display:none;\">\n",
              "\n",
              "  <svg xmlns=\"http://www.w3.org/2000/svg\" height=\"24px\" viewBox=\"0 -960 960 960\">\n",
              "    <path d=\"M120-120v-720h720v720H120Zm60-500h600v-160H180v160Zm220 220h160v-160H400v160Zm0 220h160v-160H400v160ZM180-400h160v-160H180v160Zm440 0h160v-160H620v160ZM180-180h160v-160H180v160Zm440 0h160v-160H620v160Z\"/>\n",
              "  </svg>\n",
              "    </button>\n",
              "\n",
              "  <style>\n",
              "    .colab-df-container {\n",
              "      display:flex;\n",
              "      gap: 12px;\n",
              "    }\n",
              "\n",
              "    .colab-df-convert {\n",
              "      background-color: #E8F0FE;\n",
              "      border: none;\n",
              "      border-radius: 50%;\n",
              "      cursor: pointer;\n",
              "      display: none;\n",
              "      fill: #1967D2;\n",
              "      height: 32px;\n",
              "      padding: 0 0 0 0;\n",
              "      width: 32px;\n",
              "    }\n",
              "\n",
              "    .colab-df-convert:hover {\n",
              "      background-color: #E2EBFA;\n",
              "      box-shadow: 0px 1px 2px rgba(60, 64, 67, 0.3), 0px 1px 3px 1px rgba(60, 64, 67, 0.15);\n",
              "      fill: #174EA6;\n",
              "    }\n",
              "\n",
              "    .colab-df-buttons div {\n",
              "      margin-bottom: 4px;\n",
              "    }\n",
              "\n",
              "    [theme=dark] .colab-df-convert {\n",
              "      background-color: #3B4455;\n",
              "      fill: #D2E3FC;\n",
              "    }\n",
              "\n",
              "    [theme=dark] .colab-df-convert:hover {\n",
              "      background-color: #434B5C;\n",
              "      box-shadow: 0px 1px 3px 1px rgba(0, 0, 0, 0.15);\n",
              "      filter: drop-shadow(0px 1px 2px rgba(0, 0, 0, 0.3));\n",
              "      fill: #FFFFFF;\n",
              "    }\n",
              "  </style>\n",
              "\n",
              "    <script>\n",
              "      const buttonEl =\n",
              "        document.querySelector('#df-6409b744-cf9c-4654-9aff-021af568aea3 button.colab-df-convert');\n",
              "      buttonEl.style.display =\n",
              "        google.colab.kernel.accessAllowed ? 'block' : 'none';\n",
              "\n",
              "      async function convertToInteractive(key) {\n",
              "        const element = document.querySelector('#df-6409b744-cf9c-4654-9aff-021af568aea3');\n",
              "        const dataTable =\n",
              "          await google.colab.kernel.invokeFunction('convertToInteractive',\n",
              "                                                    [key], {});\n",
              "        if (!dataTable) return;\n",
              "\n",
              "        const docLinkHtml = 'Like what you see? Visit the ' +\n",
              "          '<a target=\"_blank\" href=https://colab.research.google.com/notebooks/data_table.ipynb>data table notebook</a>'\n",
              "          + ' to learn more about interactive tables.';\n",
              "        element.innerHTML = '';\n",
              "        dataTable['output_type'] = 'display_data';\n",
              "        await google.colab.output.renderOutput(dataTable, element);\n",
              "        const docLink = document.createElement('div');\n",
              "        docLink.innerHTML = docLinkHtml;\n",
              "        element.appendChild(docLink);\n",
              "      }\n",
              "    </script>\n",
              "  </div>\n",
              "\n",
              "\n",
              "<div id=\"df-81b93e78-ed29-4af2-98f4-48d0e6029678\">\n",
              "  <button class=\"colab-df-quickchart\" onclick=\"quickchart('df-81b93e78-ed29-4af2-98f4-48d0e6029678')\"\n",
              "            title=\"Suggest charts\"\n",
              "            style=\"display:none;\">\n",
              "\n",
              "<svg xmlns=\"http://www.w3.org/2000/svg\" height=\"24px\"viewBox=\"0 0 24 24\"\n",
              "     width=\"24px\">\n",
              "    <g>\n",
              "        <path d=\"M19 3H5c-1.1 0-2 .9-2 2v14c0 1.1.9 2 2 2h14c1.1 0 2-.9 2-2V5c0-1.1-.9-2-2-2zM9 17H7v-7h2v7zm4 0h-2V7h2v10zm4 0h-2v-4h2v4z\"/>\n",
              "    </g>\n",
              "</svg>\n",
              "  </button>\n",
              "\n",
              "<style>\n",
              "  .colab-df-quickchart {\n",
              "      --bg-color: #E8F0FE;\n",
              "      --fill-color: #1967D2;\n",
              "      --hover-bg-color: #E2EBFA;\n",
              "      --hover-fill-color: #174EA6;\n",
              "      --disabled-fill-color: #AAA;\n",
              "      --disabled-bg-color: #DDD;\n",
              "  }\n",
              "\n",
              "  [theme=dark] .colab-df-quickchart {\n",
              "      --bg-color: #3B4455;\n",
              "      --fill-color: #D2E3FC;\n",
              "      --hover-bg-color: #434B5C;\n",
              "      --hover-fill-color: #FFFFFF;\n",
              "      --disabled-bg-color: #3B4455;\n",
              "      --disabled-fill-color: #666;\n",
              "  }\n",
              "\n",
              "  .colab-df-quickchart {\n",
              "    background-color: var(--bg-color);\n",
              "    border: none;\n",
              "    border-radius: 50%;\n",
              "    cursor: pointer;\n",
              "    display: none;\n",
              "    fill: var(--fill-color);\n",
              "    height: 32px;\n",
              "    padding: 0;\n",
              "    width: 32px;\n",
              "  }\n",
              "\n",
              "  .colab-df-quickchart:hover {\n",
              "    background-color: var(--hover-bg-color);\n",
              "    box-shadow: 0 1px 2px rgba(60, 64, 67, 0.3), 0 1px 3px 1px rgba(60, 64, 67, 0.15);\n",
              "    fill: var(--button-hover-fill-color);\n",
              "  }\n",
              "\n",
              "  .colab-df-quickchart-complete:disabled,\n",
              "  .colab-df-quickchart-complete:disabled:hover {\n",
              "    background-color: var(--disabled-bg-color);\n",
              "    fill: var(--disabled-fill-color);\n",
              "    box-shadow: none;\n",
              "  }\n",
              "\n",
              "  .colab-df-spinner {\n",
              "    border: 2px solid var(--fill-color);\n",
              "    border-color: transparent;\n",
              "    border-bottom-color: var(--fill-color);\n",
              "    animation:\n",
              "      spin 1s steps(1) infinite;\n",
              "  }\n",
              "\n",
              "  @keyframes spin {\n",
              "    0% {\n",
              "      border-color: transparent;\n",
              "      border-bottom-color: var(--fill-color);\n",
              "      border-left-color: var(--fill-color);\n",
              "    }\n",
              "    20% {\n",
              "      border-color: transparent;\n",
              "      border-left-color: var(--fill-color);\n",
              "      border-top-color: var(--fill-color);\n",
              "    }\n",
              "    30% {\n",
              "      border-color: transparent;\n",
              "      border-left-color: var(--fill-color);\n",
              "      border-top-color: var(--fill-color);\n",
              "      border-right-color: var(--fill-color);\n",
              "    }\n",
              "    40% {\n",
              "      border-color: transparent;\n",
              "      border-right-color: var(--fill-color);\n",
              "      border-top-color: var(--fill-color);\n",
              "    }\n",
              "    60% {\n",
              "      border-color: transparent;\n",
              "      border-right-color: var(--fill-color);\n",
              "    }\n",
              "    80% {\n",
              "      border-color: transparent;\n",
              "      border-right-color: var(--fill-color);\n",
              "      border-bottom-color: var(--fill-color);\n",
              "    }\n",
              "    90% {\n",
              "      border-color: transparent;\n",
              "      border-bottom-color: var(--fill-color);\n",
              "    }\n",
              "  }\n",
              "</style>\n",
              "\n",
              "  <script>\n",
              "    async function quickchart(key) {\n",
              "      const quickchartButtonEl =\n",
              "        document.querySelector('#' + key + ' button');\n",
              "      quickchartButtonEl.disabled = true;  // To prevent multiple clicks.\n",
              "      quickchartButtonEl.classList.add('colab-df-spinner');\n",
              "      try {\n",
              "        const charts = await google.colab.kernel.invokeFunction(\n",
              "            'suggestCharts', [key], {});\n",
              "      } catch (error) {\n",
              "        console.error('Error during call to suggestCharts:', error);\n",
              "      }\n",
              "      quickchartButtonEl.classList.remove('colab-df-spinner');\n",
              "      quickchartButtonEl.classList.add('colab-df-quickchart-complete');\n",
              "    }\n",
              "    (() => {\n",
              "      let quickchartButtonEl =\n",
              "        document.querySelector('#df-81b93e78-ed29-4af2-98f4-48d0e6029678 button');\n",
              "      quickchartButtonEl.style.display =\n",
              "        google.colab.kernel.accessAllowed ? 'block' : 'none';\n",
              "    })();\n",
              "  </script>\n",
              "</div>\n",
              "    </div>\n",
              "  </div>\n"
            ]
          },
          "metadata": {},
          "execution_count": 9
        }
      ]
    },
    {
      "cell_type": "code",
      "source": [
        "df=df.dropna()\n",
        "df.isna().sum()"
      ],
      "metadata": {
        "id": "A-tKYph0lL6H",
        "colab": {
          "base_uri": "https://localhost:8080/"
        },
        "outputId": "6438d0c6-bdb7-4e9f-8e34-48aaaad4a4c6"
      },
      "execution_count": 10,
      "outputs": [
        {
          "output_type": "execute_result",
          "data": {
            "text/plain": [
              "Facility Type      0\n",
              "Risk               0\n",
              "Inspection Type    0\n",
              "Results            0\n",
              "dtype: int64"
            ]
          },
          "metadata": {},
          "execution_count": 10
        }
      ]
    },
    {
      "cell_type": "markdown",
      "source": [
        "# Label Encoding"
      ],
      "metadata": {
        "id": "lxWCTO07lr1G"
      }
    },
    {
      "cell_type": "code",
      "source": [
        "import pandas as pd\n",
        "from sklearn.preprocessing import LabelEncoder\n",
        "\n",
        "# Specify the column for which you want to apply label encoding\n",
        "column_name = 'Results'  # Replace with the actual column name\n",
        "\n",
        "# Initialize the LabelEncoder\n",
        "label_encoder = LabelEncoder()\n",
        "\n",
        "# Fit and transform the specified column\n",
        "df['final_Results'] = label_encoder.fit_transform(df[column_name])\n",
        "\n",
        "# Create a mapping between the original names and their label-encoded values\n",
        "label_mapping = pd.DataFrame({\n",
        "    'Original': df[column_name].unique(),\n",
        "    'LabelEncoded': df['final_Results'].unique()\n",
        "})\n",
        "\n",
        "# Display the modified DataFrame\n",
        "print(df)\n",
        "\n",
        "# Display the label mapping\n",
        "print(label_mapping)"
      ],
      "metadata": {
        "id": "J0IA8k7HlqGW",
        "colab": {
          "base_uri": "https://localhost:8080/"
        },
        "outputId": "5a1a920e-6f63-4f99-e61a-36e02795be29"
      },
      "execution_count": 11,
      "outputs": [
        {
          "output_type": "stream",
          "name": "stdout",
          "text": [
            "         Facility Type           Risk        Inspection Type          Results  \\\n",
            "0           Restaurant  Risk 1 (High)  Canvass Re-Inspection             Pass   \n",
            "1        Grocery Store  Risk 1 (High)                License        Not Ready   \n",
            "2        Grocery Store   Risk 3 (Low)                License        Not Ready   \n",
            "3           Restaurant  Risk 1 (High)  Canvass Re-Inspection             Fail   \n",
            "4           Restaurant  Risk 1 (High)                Canvass  Out of Business   \n",
            "...                ...            ...                    ...              ...   \n",
            "264025  Long Term Care  Risk 1 (High)                Canvass             Fail   \n",
            "264026      Restaurant  Risk 1 (High)  Canvass Re-Inspection             Pass   \n",
            "264027      Restaurant  Risk 1 (High)                Canvass             Fail   \n",
            "264028      Restaurant  Risk 1 (High)                Canvass             Pass   \n",
            "264029          Liquor   Risk 3 (Low)  License Re-Inspection             Fail   \n",
            "\n",
            "        final_Results  \n",
            "0                   5  \n",
            "1                   3  \n",
            "2                   3  \n",
            "3                   1  \n",
            "4                   4  \n",
            "...               ...  \n",
            "264025              1  \n",
            "264026              5  \n",
            "264027              1  \n",
            "264028              5  \n",
            "264029              1  \n",
            "\n",
            "[258897 rows x 5 columns]\n",
            "               Original  LabelEncoded\n",
            "0                  Pass             5\n",
            "1             Not Ready             3\n",
            "2                  Fail             1\n",
            "3       Out of Business             4\n",
            "4              No Entry             2\n",
            "5  Business Not Located             0\n"
          ]
        }
      ]
    },
    {
      "cell_type": "code",
      "source": [
        "df.drop('Results',axis=1,inplace=True)"
      ],
      "metadata": {
        "id": "sA5LCM6ClxGh"
      },
      "execution_count": 12,
      "outputs": []
    },
    {
      "cell_type": "code",
      "source": [
        "df"
      ],
      "metadata": {
        "id": "v6OpZhlmlzan",
        "colab": {
          "base_uri": "https://localhost:8080/",
          "height": 424
        },
        "outputId": "2c521fd7-40ba-4284-f433-e0b887209cf5"
      },
      "execution_count": 13,
      "outputs": [
        {
          "output_type": "execute_result",
          "data": {
            "text/plain": [
              "         Facility Type           Risk        Inspection Type  final_Results\n",
              "0           Restaurant  Risk 1 (High)  Canvass Re-Inspection              5\n",
              "1        Grocery Store  Risk 1 (High)                License              3\n",
              "2        Grocery Store   Risk 3 (Low)                License              3\n",
              "3           Restaurant  Risk 1 (High)  Canvass Re-Inspection              1\n",
              "4           Restaurant  Risk 1 (High)                Canvass              4\n",
              "...                ...            ...                    ...            ...\n",
              "264025  Long Term Care  Risk 1 (High)                Canvass              1\n",
              "264026      Restaurant  Risk 1 (High)  Canvass Re-Inspection              5\n",
              "264027      Restaurant  Risk 1 (High)                Canvass              1\n",
              "264028      Restaurant  Risk 1 (High)                Canvass              5\n",
              "264029          Liquor   Risk 3 (Low)  License Re-Inspection              1\n",
              "\n",
              "[258897 rows x 4 columns]"
            ],
            "text/html": [
              "\n",
              "  <div id=\"df-f5ce09cc-ffc5-4884-b698-75c95ac8ae24\" class=\"colab-df-container\">\n",
              "    <div>\n",
              "<style scoped>\n",
              "    .dataframe tbody tr th:only-of-type {\n",
              "        vertical-align: middle;\n",
              "    }\n",
              "\n",
              "    .dataframe tbody tr th {\n",
              "        vertical-align: top;\n",
              "    }\n",
              "\n",
              "    .dataframe thead th {\n",
              "        text-align: right;\n",
              "    }\n",
              "</style>\n",
              "<table border=\"1\" class=\"dataframe\">\n",
              "  <thead>\n",
              "    <tr style=\"text-align: right;\">\n",
              "      <th></th>\n",
              "      <th>Facility Type</th>\n",
              "      <th>Risk</th>\n",
              "      <th>Inspection Type</th>\n",
              "      <th>final_Results</th>\n",
              "    </tr>\n",
              "  </thead>\n",
              "  <tbody>\n",
              "    <tr>\n",
              "      <th>0</th>\n",
              "      <td>Restaurant</td>\n",
              "      <td>Risk 1 (High)</td>\n",
              "      <td>Canvass Re-Inspection</td>\n",
              "      <td>5</td>\n",
              "    </tr>\n",
              "    <tr>\n",
              "      <th>1</th>\n",
              "      <td>Grocery Store</td>\n",
              "      <td>Risk 1 (High)</td>\n",
              "      <td>License</td>\n",
              "      <td>3</td>\n",
              "    </tr>\n",
              "    <tr>\n",
              "      <th>2</th>\n",
              "      <td>Grocery Store</td>\n",
              "      <td>Risk 3 (Low)</td>\n",
              "      <td>License</td>\n",
              "      <td>3</td>\n",
              "    </tr>\n",
              "    <tr>\n",
              "      <th>3</th>\n",
              "      <td>Restaurant</td>\n",
              "      <td>Risk 1 (High)</td>\n",
              "      <td>Canvass Re-Inspection</td>\n",
              "      <td>1</td>\n",
              "    </tr>\n",
              "    <tr>\n",
              "      <th>4</th>\n",
              "      <td>Restaurant</td>\n",
              "      <td>Risk 1 (High)</td>\n",
              "      <td>Canvass</td>\n",
              "      <td>4</td>\n",
              "    </tr>\n",
              "    <tr>\n",
              "      <th>...</th>\n",
              "      <td>...</td>\n",
              "      <td>...</td>\n",
              "      <td>...</td>\n",
              "      <td>...</td>\n",
              "    </tr>\n",
              "    <tr>\n",
              "      <th>264025</th>\n",
              "      <td>Long Term Care</td>\n",
              "      <td>Risk 1 (High)</td>\n",
              "      <td>Canvass</td>\n",
              "      <td>1</td>\n",
              "    </tr>\n",
              "    <tr>\n",
              "      <th>264026</th>\n",
              "      <td>Restaurant</td>\n",
              "      <td>Risk 1 (High)</td>\n",
              "      <td>Canvass Re-Inspection</td>\n",
              "      <td>5</td>\n",
              "    </tr>\n",
              "    <tr>\n",
              "      <th>264027</th>\n",
              "      <td>Restaurant</td>\n",
              "      <td>Risk 1 (High)</td>\n",
              "      <td>Canvass</td>\n",
              "      <td>1</td>\n",
              "    </tr>\n",
              "    <tr>\n",
              "      <th>264028</th>\n",
              "      <td>Restaurant</td>\n",
              "      <td>Risk 1 (High)</td>\n",
              "      <td>Canvass</td>\n",
              "      <td>5</td>\n",
              "    </tr>\n",
              "    <tr>\n",
              "      <th>264029</th>\n",
              "      <td>Liquor</td>\n",
              "      <td>Risk 3 (Low)</td>\n",
              "      <td>License Re-Inspection</td>\n",
              "      <td>1</td>\n",
              "    </tr>\n",
              "  </tbody>\n",
              "</table>\n",
              "<p>258897 rows × 4 columns</p>\n",
              "</div>\n",
              "    <div class=\"colab-df-buttons\">\n",
              "\n",
              "  <div class=\"colab-df-container\">\n",
              "    <button class=\"colab-df-convert\" onclick=\"convertToInteractive('df-f5ce09cc-ffc5-4884-b698-75c95ac8ae24')\"\n",
              "            title=\"Convert this dataframe to an interactive table.\"\n",
              "            style=\"display:none;\">\n",
              "\n",
              "  <svg xmlns=\"http://www.w3.org/2000/svg\" height=\"24px\" viewBox=\"0 -960 960 960\">\n",
              "    <path d=\"M120-120v-720h720v720H120Zm60-500h600v-160H180v160Zm220 220h160v-160H400v160Zm0 220h160v-160H400v160ZM180-400h160v-160H180v160Zm440 0h160v-160H620v160ZM180-180h160v-160H180v160Zm440 0h160v-160H620v160Z\"/>\n",
              "  </svg>\n",
              "    </button>\n",
              "\n",
              "  <style>\n",
              "    .colab-df-container {\n",
              "      display:flex;\n",
              "      gap: 12px;\n",
              "    }\n",
              "\n",
              "    .colab-df-convert {\n",
              "      background-color: #E8F0FE;\n",
              "      border: none;\n",
              "      border-radius: 50%;\n",
              "      cursor: pointer;\n",
              "      display: none;\n",
              "      fill: #1967D2;\n",
              "      height: 32px;\n",
              "      padding: 0 0 0 0;\n",
              "      width: 32px;\n",
              "    }\n",
              "\n",
              "    .colab-df-convert:hover {\n",
              "      background-color: #E2EBFA;\n",
              "      box-shadow: 0px 1px 2px rgba(60, 64, 67, 0.3), 0px 1px 3px 1px rgba(60, 64, 67, 0.15);\n",
              "      fill: #174EA6;\n",
              "    }\n",
              "\n",
              "    .colab-df-buttons div {\n",
              "      margin-bottom: 4px;\n",
              "    }\n",
              "\n",
              "    [theme=dark] .colab-df-convert {\n",
              "      background-color: #3B4455;\n",
              "      fill: #D2E3FC;\n",
              "    }\n",
              "\n",
              "    [theme=dark] .colab-df-convert:hover {\n",
              "      background-color: #434B5C;\n",
              "      box-shadow: 0px 1px 3px 1px rgba(0, 0, 0, 0.15);\n",
              "      filter: drop-shadow(0px 1px 2px rgba(0, 0, 0, 0.3));\n",
              "      fill: #FFFFFF;\n",
              "    }\n",
              "  </style>\n",
              "\n",
              "    <script>\n",
              "      const buttonEl =\n",
              "        document.querySelector('#df-f5ce09cc-ffc5-4884-b698-75c95ac8ae24 button.colab-df-convert');\n",
              "      buttonEl.style.display =\n",
              "        google.colab.kernel.accessAllowed ? 'block' : 'none';\n",
              "\n",
              "      async function convertToInteractive(key) {\n",
              "        const element = document.querySelector('#df-f5ce09cc-ffc5-4884-b698-75c95ac8ae24');\n",
              "        const dataTable =\n",
              "          await google.colab.kernel.invokeFunction('convertToInteractive',\n",
              "                                                    [key], {});\n",
              "        if (!dataTable) return;\n",
              "\n",
              "        const docLinkHtml = 'Like what you see? Visit the ' +\n",
              "          '<a target=\"_blank\" href=https://colab.research.google.com/notebooks/data_table.ipynb>data table notebook</a>'\n",
              "          + ' to learn more about interactive tables.';\n",
              "        element.innerHTML = '';\n",
              "        dataTable['output_type'] = 'display_data';\n",
              "        await google.colab.output.renderOutput(dataTable, element);\n",
              "        const docLink = document.createElement('div');\n",
              "        docLink.innerHTML = docLinkHtml;\n",
              "        element.appendChild(docLink);\n",
              "      }\n",
              "    </script>\n",
              "  </div>\n",
              "\n",
              "\n",
              "<div id=\"df-4385219e-455f-47ac-91a3-55d7cafb967d\">\n",
              "  <button class=\"colab-df-quickchart\" onclick=\"quickchart('df-4385219e-455f-47ac-91a3-55d7cafb967d')\"\n",
              "            title=\"Suggest charts\"\n",
              "            style=\"display:none;\">\n",
              "\n",
              "<svg xmlns=\"http://www.w3.org/2000/svg\" height=\"24px\"viewBox=\"0 0 24 24\"\n",
              "     width=\"24px\">\n",
              "    <g>\n",
              "        <path d=\"M19 3H5c-1.1 0-2 .9-2 2v14c0 1.1.9 2 2 2h14c1.1 0 2-.9 2-2V5c0-1.1-.9-2-2-2zM9 17H7v-7h2v7zm4 0h-2V7h2v10zm4 0h-2v-4h2v4z\"/>\n",
              "    </g>\n",
              "</svg>\n",
              "  </button>\n",
              "\n",
              "<style>\n",
              "  .colab-df-quickchart {\n",
              "      --bg-color: #E8F0FE;\n",
              "      --fill-color: #1967D2;\n",
              "      --hover-bg-color: #E2EBFA;\n",
              "      --hover-fill-color: #174EA6;\n",
              "      --disabled-fill-color: #AAA;\n",
              "      --disabled-bg-color: #DDD;\n",
              "  }\n",
              "\n",
              "  [theme=dark] .colab-df-quickchart {\n",
              "      --bg-color: #3B4455;\n",
              "      --fill-color: #D2E3FC;\n",
              "      --hover-bg-color: #434B5C;\n",
              "      --hover-fill-color: #FFFFFF;\n",
              "      --disabled-bg-color: #3B4455;\n",
              "      --disabled-fill-color: #666;\n",
              "  }\n",
              "\n",
              "  .colab-df-quickchart {\n",
              "    background-color: var(--bg-color);\n",
              "    border: none;\n",
              "    border-radius: 50%;\n",
              "    cursor: pointer;\n",
              "    display: none;\n",
              "    fill: var(--fill-color);\n",
              "    height: 32px;\n",
              "    padding: 0;\n",
              "    width: 32px;\n",
              "  }\n",
              "\n",
              "  .colab-df-quickchart:hover {\n",
              "    background-color: var(--hover-bg-color);\n",
              "    box-shadow: 0 1px 2px rgba(60, 64, 67, 0.3), 0 1px 3px 1px rgba(60, 64, 67, 0.15);\n",
              "    fill: var(--button-hover-fill-color);\n",
              "  }\n",
              "\n",
              "  .colab-df-quickchart-complete:disabled,\n",
              "  .colab-df-quickchart-complete:disabled:hover {\n",
              "    background-color: var(--disabled-bg-color);\n",
              "    fill: var(--disabled-fill-color);\n",
              "    box-shadow: none;\n",
              "  }\n",
              "\n",
              "  .colab-df-spinner {\n",
              "    border: 2px solid var(--fill-color);\n",
              "    border-color: transparent;\n",
              "    border-bottom-color: var(--fill-color);\n",
              "    animation:\n",
              "      spin 1s steps(1) infinite;\n",
              "  }\n",
              "\n",
              "  @keyframes spin {\n",
              "    0% {\n",
              "      border-color: transparent;\n",
              "      border-bottom-color: var(--fill-color);\n",
              "      border-left-color: var(--fill-color);\n",
              "    }\n",
              "    20% {\n",
              "      border-color: transparent;\n",
              "      border-left-color: var(--fill-color);\n",
              "      border-top-color: var(--fill-color);\n",
              "    }\n",
              "    30% {\n",
              "      border-color: transparent;\n",
              "      border-left-color: var(--fill-color);\n",
              "      border-top-color: var(--fill-color);\n",
              "      border-right-color: var(--fill-color);\n",
              "    }\n",
              "    40% {\n",
              "      border-color: transparent;\n",
              "      border-right-color: var(--fill-color);\n",
              "      border-top-color: var(--fill-color);\n",
              "    }\n",
              "    60% {\n",
              "      border-color: transparent;\n",
              "      border-right-color: var(--fill-color);\n",
              "    }\n",
              "    80% {\n",
              "      border-color: transparent;\n",
              "      border-right-color: var(--fill-color);\n",
              "      border-bottom-color: var(--fill-color);\n",
              "    }\n",
              "    90% {\n",
              "      border-color: transparent;\n",
              "      border-bottom-color: var(--fill-color);\n",
              "    }\n",
              "  }\n",
              "</style>\n",
              "\n",
              "  <script>\n",
              "    async function quickchart(key) {\n",
              "      const quickchartButtonEl =\n",
              "        document.querySelector('#' + key + ' button');\n",
              "      quickchartButtonEl.disabled = true;  // To prevent multiple clicks.\n",
              "      quickchartButtonEl.classList.add('colab-df-spinner');\n",
              "      try {\n",
              "        const charts = await google.colab.kernel.invokeFunction(\n",
              "            'suggestCharts', [key], {});\n",
              "      } catch (error) {\n",
              "        console.error('Error during call to suggestCharts:', error);\n",
              "      }\n",
              "      quickchartButtonEl.classList.remove('colab-df-spinner');\n",
              "      quickchartButtonEl.classList.add('colab-df-quickchart-complete');\n",
              "    }\n",
              "    (() => {\n",
              "      let quickchartButtonEl =\n",
              "        document.querySelector('#df-4385219e-455f-47ac-91a3-55d7cafb967d button');\n",
              "      quickchartButtonEl.style.display =\n",
              "        google.colab.kernel.accessAllowed ? 'block' : 'none';\n",
              "    })();\n",
              "  </script>\n",
              "</div>\n",
              "    </div>\n",
              "  </div>\n"
            ]
          },
          "metadata": {},
          "execution_count": 13
        }
      ]
    },
    {
      "cell_type": "code",
      "source": [
        "# Specify the column for which you want to find unique values and their counts\n",
        "column_name = 'final_Results'  # Replace with the actual column name\n",
        "\n",
        "# Get the number of unique values\n",
        "num_unique_values = df[column_name].nunique()\n",
        "\n",
        "# Get the unique values and their counts\n",
        "unique_values_counts = df[column_name].value_counts()\n",
        "\n",
        "# Print the number of unique values\n",
        "print(f'Number of unique values in the column \"{column_name}\": {num_unique_values}')\n",
        "\n",
        "# Print the unique values and their counts\n",
        "print('\\nUnique values and their counts:')\n",
        "print(unique_values_counts)\n"
      ],
      "metadata": {
        "id": "uiSX7kNtl21S",
        "colab": {
          "base_uri": "https://localhost:8080/"
        },
        "outputId": "088b3296-9934-4b9e-9472-197d1f39142b"
      },
      "execution_count": 14,
      "outputs": [
        {
          "output_type": "stream",
          "name": "stdout",
          "text": [
            "Number of unique values in the column \"final_Results\": 6\n",
            "\n",
            "Unique values and their counts:\n",
            "5    175933\n",
            "1     51168\n",
            "4     18216\n",
            "2     10374\n",
            "3      3151\n",
            "0        55\n",
            "Name: final_Results, dtype: int64\n"
          ]
        }
      ]
    },
    {
      "cell_type": "code",
      "source": [
        "df=pd.get_dummies(df, prefix=['Facility Type', 'Risk','Inspection Type'])"
      ],
      "metadata": {
        "id": "IILhmejcmJ5B"
      },
      "execution_count": 15,
      "outputs": []
    },
    {
      "cell_type": "code",
      "source": [
        "y=df['final_Results']\n",
        "df.drop(['final_Results'],axis=1,inplace=True)\n",
        "X=df"
      ],
      "metadata": {
        "id": "YR38mHzrmKfY"
      },
      "execution_count": 16,
      "outputs": []
    },
    {
      "cell_type": "markdown",
      "source": [
        "# Dimensionality Reduction"
      ],
      "metadata": {
        "id": "nFgGEyd7bu6w"
      }
    },
    {
      "cell_type": "code",
      "source": [
        "# Importing libraries\n",
        "from sklearn.decomposition import PCA\n",
        "import matplotlib.pyplot as plt\n",
        "from sklearn.impute import KNNImputer\n",
        "from sklearn.compose import make_column_transformer\n",
        "from sklearn.pipeline import make_pipeline\n",
        "from sklearn.preprocessing import StandardScaler"
      ],
      "metadata": {
        "id": "XBMTJwKkWh6Z"
      },
      "execution_count": 17,
      "outputs": []
    },
    {
      "cell_type": "code",
      "source": [
        "# Standardize/scale the dataset and apply PCA\n",
        "# Extract the names of the numerical columns\n",
        "scaler = StandardScaler()\n",
        "pca = PCA()\n",
        "pipeline = make_pipeline(scaler,pca)\n",
        "pipeline.fit(X)\n",
        "# Plot the principal components against their inertia\n",
        "features = range(pca.n_components_)\n",
        "_ = plt.figure(figsize=(15, 5))\n",
        "_ = plt.bar(features, pca.explained_variance_)\n",
        "_ = plt.xlabel('PCA feature')\n",
        "_ = plt.ylabel('Variance')\n",
        "_ = plt.xticks(features)\n",
        "_ = plt.title(\"Importance of the Principal Components based on inertia\")\n",
        "plt.show()"
      ],
      "metadata": {
        "colab": {
          "base_uri": "https://localhost:8080/",
          "height": 257
        },
        "id": "3n3EPMZVWmwn",
        "outputId": "de09e586-a935-442c-b405-f68b91d14fa8"
      },
      "execution_count": 18,
      "outputs": [
        {
          "output_type": "display_data",
          "data": {
            "text/plain": [
              "<Figure size 1500x500 with 1 Axes>"
            ],
            "image/png": "[encoded data removed]"
          },
          "metadata": {}
        }
      ]
    },
    {
      "cell_type": "code",
      "source": [
        "# Applying dimensionality reduction technique (PCA) to reduce columns\n",
        "pca = PCA(n_components=0.85)\n",
        "X = pca.fit_transform(X)\n",
        "# Shape of data frame after applying PCA\n",
        "print(X.shape)\n",
        "print(\"Total number of components after applying PCA\",len(pca.components_))"
      ],
      "metadata": {
        "colab": {
          "base_uri": "https://localhost:8080/"
        },
        "id": "T8WAgRdeWwn5",
        "outputId": "f0432642-5aa1-4f88-f5a6-a48ac27aebe5"
      },
      "execution_count": 19,
      "outputs": [
        {
          "output_type": "stream",
          "name": "stdout",
          "text": [
            "(258897, 9)\n",
            "Total number of components after applying PCA 9\n"
          ]
        }
      ]
    },
    {
      "cell_type": "markdown",
      "source": [
        "# Splitting Test and Train Data"
      ],
      "metadata": {
        "id": "rMI1stHYJ0nR"
      }
    },
    {
      "cell_type": "code",
      "source": [
        "# Spliting the dataset into train, test and validation dataset\n",
        "from sklearn.model_selection import train_test_split\n",
        "X_train, X_rem, y_train, y_rem = train_test_split(X,y, train_size=0.7,random_state=20)\n",
        "X_valid, X_test, y_valid, y_test = train_test_split(X_rem,y_rem, test_size=0.5,random_state=20)"
      ],
      "metadata": {
        "id": "WOnpT4TIan-S"
      },
      "execution_count": 20,
      "outputs": []
    },
    {
      "cell_type": "markdown",
      "source": [
        "# Hyperparamenter tuning for random forest\n"
      ],
      "metadata": {
        "id": "jI9TECxZeBC5"
      }
    },
    {
      "cell_type": "code",
      "source": [
        "# Finding the best hyperparameter for random forest regressor using randomized Search CV\n",
        "n_estimators = [5,20,50,100] # number of trees in the random forest\n",
        "max_features = ['auto', 'sqrt'] # number of features in consideration at every split\n",
        "max_depth = [int(x) for x in np.linspace(10, 120, num = 12)] # maximum number of levels allowed in each decision tree\n",
        "min_samples_split = [2, 6, 10] # minimum sample number to split a node\n",
        "min_samples_leaf = [1, 3, 4] # minimum sample number that can be stored in a leaf node\n",
        "bootstrap = [True, False] # method used to sample data points\n",
        "\n",
        "random_grid = {\n",
        "                'n_estimators': n_estimators,'max_features': max_features,\n",
        "               'max_depth': max_depth,'min_samples_split': min_samples_split,\n",
        "               'min_samples_leaf': min_samples_leaf,\n",
        "               'bootstrap': bootstrap\n",
        "              }"
      ],
      "metadata": {
        "id": "6yihcuBWeId7"
      },
      "execution_count": 21,
      "outputs": []
    },
    {
      "cell_type": "code",
      "source": [
        "# Importing Random Forest Classifier from the sklearn.ensemble\n",
        "from sklearn.ensemble import RandomForestClassifier\n",
        "rf_classifier = RandomForestClassifier(random_state=42)"
      ],
      "metadata": {
        "id": "Tr82fCFgePjG"
      },
      "execution_count": 22,
      "outputs": []
    },
    {
      "cell_type": "code",
      "source": [
        "from sklearn.model_selection import RandomizedSearchCV\n",
        "hyper_tuning_rf = RandomizedSearchCV(estimator = rf_classifier,param_distributions = random_grid,\n",
        "               n_iter = 100, cv = 2, verbose=2, random_state=35, n_jobs = -1)"
      ],
      "metadata": {
        "id": "DHHwCM2celkZ"
      },
      "execution_count": 23,
      "outputs": []
    },
    {
      "cell_type": "code",
      "source": [
        "# Fitting the parameter into tunning model\n",
        "hyper_tuning_rf.fit(X_train[:6000,:], y_train[:6000])"
      ],
      "metadata": {
        "colab": {
          "base_uri": "https://localhost:8080/",
          "height": 136
        },
        "id": "uS0UyhgGesrX",
        "outputId": "a0587284-31f4-4abb-fa06-6d17dd907e60"
      },
      "execution_count": 24,
      "outputs": [
        {
          "output_type": "stream",
          "name": "stdout",
          "text": [
            "Fitting 2 folds for each of 100 candidates, totalling 200 fits\n"
          ]
        },
        {
          "output_type": "execute_result",
          "data": {
            "text/plain": [
              "RandomizedSearchCV(cv=2, estimator=RandomForestClassifier(random_state=42),\n",
              "                   n_iter=100, n_jobs=-1,\n",
              "                   param_distributions={'bootstrap': [True, False],\n",
              "                                        'max_depth': [10, 20, 30, 40, 50, 60,\n",
              "                                                      70, 80, 90, 100, 110,\n",
              "                                                      120],\n",
              "                                        'max_features': ['auto', 'sqrt'],\n",
              "                                        'min_samples_leaf': [1, 3, 4],\n",
              "                                        'min_samples_split': [2, 6, 10],\n",
              "                                        'n_estimators': [5, 20, 50, 100]},\n",
              "                   random_state=35, verbose=2)"
            ],
            "text/html": [
              "<style>#sk-container-id-1 {color: black;background-color: white;}#sk-container-id-1 pre{padding: 0;}#sk-container-id-1 div.sk-toggleable {background-color: white;}#sk-container-id-1 label.sk-toggleable__label {cursor: pointer;display: block;width: 100%;margin-bottom: 0;padding: 0.3em;box-sizing: border-box;text-align: center;}#sk-container-id-1 label.sk-toggleable__label-arrow:before {content: \"▸\";float: left;margin-right: 0.25em;color: #696969;}#sk-container-id-1 label.sk-toggleable__label-arrow:hover:before {color: black;}#sk-container-id-1 div.sk-estimator:hover label.sk-toggleable__label-arrow:before {color: black;}#sk-container-id-1 div.sk-toggleable__content {max-height: 0;max-width: 0;overflow: hidden;text-align: left;background-color: #f0f8ff;}#sk-container-id-1 div.sk-toggleable__content pre {margin: 0.2em;color: black;border-radius: 0.25em;background-color: #f0f8ff;}#sk-container-id-1 input.sk-toggleable__control:checked~div.sk-toggleable__content {max-height: 200px;max-width: 100%;overflow: auto;}#sk-container-id-1 input.sk-toggleable__control:checked~label.sk-toggleable__label-arrow:before {content: \"▾\";}#sk-container-id-1 div.sk-estimator input.sk-toggleable__control:checked~label.sk-toggleable__label {background-color: #d4ebff;}#sk-container-id-1 div.sk-label input.sk-toggleable__control:checked~label.sk-toggleable__label {background-color: #d4ebff;}#sk-container-id-1 input.sk-hidden--visually {border: 0;clip: rect(1px 1px 1px 1px);clip: rect(1px, 1px, 1px, 1px);height: 1px;margin: -1px;overflow: hidden;padding: 0;position: absolute;width: 1px;}#sk-container-id-1 div.sk-estimator {font-family: monospace;background-color: #f0f8ff;border: 1px dotted black;border-radius: 0.25em;box-sizing: border-box;margin-bottom: 0.5em;}#sk-container-id-1 div.sk-estimator:hover {background-color: #d4ebff;}#sk-container-id-1 div.sk-parallel-item::after {content: \"\";width: 100%;border-bottom: 1px solid gray;flex-grow: 1;}#sk-container-id-1 div.sk-label:hover label.sk-toggleable__label {background-color: #d4ebff;}#sk-container-id-1 div.sk-serial::before {content: \"\";position: absolute;border-left: 1px solid gray;box-sizing: border-box;top: 0;bottom: 0;left: 50%;z-index: 0;}#sk-container-id-1 div.sk-serial {display: flex;flex-direction: column;align-items: center;background-color: white;padding-right: 0.2em;padding-left: 0.2em;position: relative;}#sk-container-id-1 div.sk-item {position: relative;z-index: 1;}#sk-container-id-1 div.sk-parallel {display: flex;align-items: stretch;justify-content: center;background-color: white;position: relative;}#sk-container-id-1 div.sk-item::before, #sk-container-id-1 div.sk-parallel-item::before {content: \"\";position: absolute;border-left: 1px solid gray;box-sizing: border-box;top: 0;bottom: 0;left: 50%;z-index: -1;}#sk-container-id-1 div.sk-parallel-item {display: flex;flex-direction: column;z-index: 1;position: relative;background-color: white;}#sk-container-id-1 div.sk-parallel-item:first-child::after {align-self: flex-end;width: 50%;}#sk-container-id-1 div.sk-parallel-item:last-child::after {align-self: flex-start;width: 50%;}#sk-container-id-1 div.sk-parallel-item:only-child::after {width: 0;}#sk-container-id-1 div.sk-dashed-wrapped {border: 1px dashed gray;margin: 0 0.4em 0.5em 0.4em;box-sizing: border-box;padding-bottom: 0.4em;background-color: white;}#sk-container-id-1 div.sk-label label {font-family: monospace;font-weight: bold;display: inline-block;line-height: 1.2em;}#sk-container-id-1 div.sk-label-container {text-align: center;}#sk-container-id-1 div.sk-container {/* jupyter's `normalize.less` sets `[hidden] { display: none; }` but bootstrap.min.css set `[hidden] { display: none !important; }` so we also need the `!important` here to be able to override the default hidden behavior on the sphinx rendered scikit-learn.org. See: https://github.com/scikit-learn/scikit-learn/issues/21755 */display: inline-block !important;position: relative;}#sk-container-id-1 div.sk-text-repr-fallback {display: none;}</style><div id=\"sk-container-id-1\" class=\"sk-top-container\"><div class=\"sk-text-repr-fallback\"><pre>RandomizedSearchCV(cv=2, estimator=RandomForestClassifier(random_state=42),\n",
              "                   n_iter=100, n_jobs=-1,\n",
              "                   param_distributions={&#x27;bootstrap&#x27;: [True, False],\n",
              "                                        &#x27;max_depth&#x27;: [10, 20, 30, 40, 50, 60,\n",
              "                                                      70, 80, 90, 100, 110,\n",
              "                                                      120],\n",
              "                                        &#x27;max_features&#x27;: [&#x27;auto&#x27;, &#x27;sqrt&#x27;],\n",
              "                                        &#x27;min_samples_leaf&#x27;: [1, 3, 4],\n",
              "                                        &#x27;min_samples_split&#x27;: [2, 6, 10],\n",
              "                                        &#x27;n_estimators&#x27;: [5, 20, 50, 100]},\n",
              "                   random_state=35, verbose=2)</pre><b>In a Jupyter environment, please rerun this cell to show the HTML representation or trust the notebook. <br />On GitHub, the HTML representation is unable to render, please try loading this page with nbviewer.org.</b></div><div class=\"sk-container\" hidden><div class=\"sk-item sk-dashed-wrapped\"><div class=\"sk-label-container\"><div class=\"sk-label sk-toggleable\"><input class=\"sk-toggleable__control sk-hidden--visually\" id=\"sk-estimator-id-1\" type=\"checkbox\" ><label for=\"sk-estimator-id-1\" class=\"sk-toggleable__label sk-toggleable__label-arrow\">RandomizedSearchCV</label><div class=\"sk-toggleable__content\"><pre>RandomizedSearchCV(cv=2, estimator=RandomForestClassifier(random_state=42),\n",
              "                   n_iter=100, n_jobs=-1,\n",
              "                   param_distributions={&#x27;bootstrap&#x27;: [True, False],\n",
              "                                        &#x27;max_depth&#x27;: [10, 20, 30, 40, 50, 60,\n",
              "                                                      70, 80, 90, 100, 110,\n",
              "                                                      120],\n",
              "                                        &#x27;max_features&#x27;: [&#x27;auto&#x27;, &#x27;sqrt&#x27;],\n",
              "                                        &#x27;min_samples_leaf&#x27;: [1, 3, 4],\n",
              "                                        &#x27;min_samples_split&#x27;: [2, 6, 10],\n",
              "                                        &#x27;n_estimators&#x27;: [5, 20, 50, 100]},\n",
              "                   random_state=35, verbose=2)</pre></div></div></div><div class=\"sk-parallel\"><div class=\"sk-parallel-item\"><div class=\"sk-item\"><div class=\"sk-label-container\"><div class=\"sk-label sk-toggleable\"><input class=\"sk-toggleable__control sk-hidden--visually\" id=\"sk-estimator-id-2\" type=\"checkbox\" ><label for=\"sk-estimator-id-2\" class=\"sk-toggleable__label sk-toggleable__label-arrow\">estimator: RandomForestClassifier</label><div class=\"sk-toggleable__content\"><pre>RandomForestClassifier(random_state=42)</pre></div></div></div><div class=\"sk-serial\"><div class=\"sk-item\"><div class=\"sk-estimator sk-toggleable\"><input class=\"sk-toggleable__control sk-hidden--visually\" id=\"sk-estimator-id-3\" type=\"checkbox\" ><label for=\"sk-estimator-id-3\" class=\"sk-toggleable__label sk-toggleable__label-arrow\">RandomForestClassifier</label><div class=\"sk-toggleable__content\"><pre>RandomForestClassifier(random_state=42)</pre></div></div></div></div></div></div></div></div></div></div>"
            ]
          },
          "metadata": {},
          "execution_count": 24
        }
      ]
    },
    {
      "cell_type": "code",
      "source": [
        "print ('Random grid: ', hyper_tuning_rf, '\\n')\n",
        "# print the best parameters\n",
        "print ('Best Parameters: ', hyper_tuning_rf.best_params_, ' \\n')"
      ],
      "metadata": {
        "colab": {
          "base_uri": "https://localhost:8080/"
        },
        "id": "HH-JKnDLe0a4",
        "outputId": "5ae6ab88-ec66-41d5-a7cc-a4d99c64729f"
      },
      "execution_count": 25,
      "outputs": [
        {
          "output_type": "stream",
          "name": "stdout",
          "text": [
            "Random grid:  RandomizedSearchCV(cv=2, estimator=RandomForestClassifier(random_state=42),\n",
            "                   n_iter=100, n_jobs=-1,\n",
            "                   param_distributions={'bootstrap': [True, False],\n",
            "                                        'max_depth': [10, 20, 30, 40, 50, 60,\n",
            "                                                      70, 80, 90, 100, 110,\n",
            "                                                      120],\n",
            "                                        'max_features': ['auto', 'sqrt'],\n",
            "                                        'min_samples_leaf': [1, 3, 4],\n",
            "                                        'min_samples_split': [2, 6, 10],\n",
            "                                        'n_estimators': [5, 20, 50, 100]},\n",
            "                   random_state=35, verbose=2) \n",
            "\n",
            "Best Parameters:  {'n_estimators': 20, 'min_samples_split': 10, 'min_samples_leaf': 4, 'max_features': 'sqrt', 'max_depth': 10, 'bootstrap': True}  \n",
            "\n"
          ]
        }
      ]
    },
    {
      "cell_type": "markdown",
      "source": [
        "# Hyperparamenter tuning for Xgboost\n"
      ],
      "metadata": {
        "id": "K16vKJVlax1m"
      }
    },
    {
      "cell_type": "code",
      "source": [
        "from xgboost import XGBRegressor\n",
        "from sklearn.tree import DecisionTreeClassifier\n",
        "from sklearn.model_selection import GridSearchCV"
      ],
      "metadata": {
        "id": "9fB2Nk7-ASUa"
      },
      "execution_count": 26,
      "outputs": []
    },
    {
      "cell_type": "code",
      "source": [
        "# Finding the best hyperparameter for Xgboost regressor using Gride Search CV\n",
        "from xgboost import XGBClassifier\n",
        "from sklearn.metrics import accuracy_score, classification_report, confusion_matrix\n",
        "from sklearn.model_selection import train_test_split\n",
        "def hyperParameterTuning(X_train, y_train):\n",
        "    param_tuning = {\n",
        "\n",
        "                'learning_rate': [0.01, 0.1],\n",
        "                'max_depth': [3, 5, 7, 10],\n",
        "                'min_child_weight': [1, 3, 5],\n",
        "                'subsample': [0.5, 0.7],\n",
        "                'colsample_bytree': [0.5, 0.7],\n",
        "                'n_estimators' : [100, 200, 500],\n",
        "                'objective': ['reg:squarederror']\n",
        "        }\n",
        "\n",
        "    xgb_model = XGBClassifier()\n",
        "\n",
        "    hyper_tuning_xgb = GridSearchCV(estimator = xgb_model,\n",
        "                           param_grid = param_tuning,\n",
        "                           scoring = 'accuracy',\n",
        "                           cv = 2,\n",
        "                           n_jobs = -1,\n",
        "                           verbose = 1)\n",
        "\n",
        "    hyper_tuning_xgb.fit(X_train,y_train)\n",
        "\n",
        "    return hyper_tuning_xgb.best_params_\n"
      ],
      "metadata": {
        "id": "ZUdtNYOHADxy"
      },
      "execution_count": 27,
      "outputs": []
    },
    {
      "cell_type": "code",
      "source": [
        "from sklearn.model_selection import GridSearchCV\n",
        "hyperParameterTuning(X_train[:6000,:], y_train[:6000])"
      ],
      "metadata": {
        "colab": {
          "base_uri": "https://localhost:8080/"
        },
        "id": "dyvq5CF3AZMC",
        "outputId": "4723d86f-b5e1-4cdf-d520-fb949d8027c4"
      },
      "execution_count": 28,
      "outputs": [
        {
          "output_type": "stream",
          "name": "stdout",
          "text": [
            "Fitting 2 folds for each of 288 candidates, totalling 576 fits\n"
          ]
        },
        {
          "output_type": "execute_result",
          "data": {
            "text/plain": [
              "{'colsample_bytree': 0.5,\n",
              " 'learning_rate': 0.01,\n",
              " 'max_depth': 3,\n",
              " 'min_child_weight': 1,\n",
              " 'n_estimators': 100,\n",
              " 'objective': 'reg:squarederror',\n",
              " 'subsample': 0.5}"
            ]
          },
          "metadata": {},
          "execution_count": 28
        }
      ]
    },
    {
      "cell_type": "markdown",
      "source": [
        "# Finding best model in the classification models"
      ],
      "metadata": {
        "id": "7kyo62fFfK2S"
      }
    },
    {
      "cell_type": "code",
      "source": [
        "# Applying the classification regressors to find any model perform better than normal regressors\n",
        "cls_estimators = {\n",
        "    \"xgb\":XGBClassifier(n_estimators=100,max_depth=3,objective=\"reg:squarederror\",\n",
        "                       learning_rate=0.01,min_child_weight=1,subsample=0.5, reg_lambda=3\n",
        "                       ),\n",
        "    \"RFR\": RandomForestClassifier(n_estimators= 20, min_samples_split=10,\n",
        "                                 min_samples_leaf= 4,max_features= 'sqrt', max_depth=10,\n",
        "                                 bootstrap=True),\n",
        "    \"Dtr\": DecisionTreeClassifier( max_depth= None, max_features = 'auto', max_leaf_nodes = None,\n",
        "                                 splitter = 'best'),\n",
        "    }"
      ],
      "metadata": {
        "id": "e1VNYb5vAj3U"
      },
      "execution_count": 29,
      "outputs": []
    },
    {
      "cell_type": "code",
      "source": [
        "from sklearn.model_selection import cross_validate, cross_val_predict"
      ],
      "metadata": {
        "id": "-4nsMuX-EbY2"
      },
      "execution_count": 30,
      "outputs": []
    },
    {
      "cell_type": "code",
      "source": [
        "# Finding accuracy for all model by applying cross validation\n",
        "cv_results_cls_reg = {}\n",
        "for nm, est in cls_estimators .items():\n",
        "  print(nm)\n",
        "  cv_results_cls_reg[nm] = cross_validate(est, X_train, y_train,scoring='accuracy', return_estimator=True,return_train_score=True, cv=5,verbose=2)"
      ],
      "metadata": {
        "colab": {
          "base_uri": "https://localhost:8080/"
        },
        "id": "fxcojjMMD2bY",
        "outputId": "b2c60d5c-80ff-43c3-9944-0c077f7454e3"
      },
      "execution_count": 31,
      "outputs": [
        {
          "output_type": "stream",
          "name": "stdout",
          "text": [
            "xgb\n",
            "[CV] END .................................................... total time=   7.1s\n",
            "[CV] END .................................................... total time=  10.8s\n",
            "[CV] END .................................................... total time=   6.4s\n",
            "[CV] END .................................................... total time=  10.4s\n",
            "[CV] END .................................................... total time=  10.8s\n",
            "RFR\n",
            "[CV] END .................................................... total time=   1.8s\n",
            "[CV] END .................................................... total time=   1.9s\n",
            "[CV] END .................................................... total time=   1.9s\n",
            "[CV] END .................................................... total time=   2.7s\n",
            "[CV] END .................................................... total time=   3.2s\n",
            "Dtr\n",
            "[CV] END .................................................... total time=   0.1s\n",
            "[CV] END .................................................... total time=   0.1s\n",
            "[CV] END .................................................... total time=   0.6s\n",
            "[CV] END .................................................... total time=   0.2s\n",
            "[CV] END .................................................... total time=   0.1s\n"
          ]
        }
      ]
    },
    {
      "cell_type": "code",
      "source": [
        "print(cv_results_cls_reg)"
      ],
      "metadata": {
        "id": "USk6F_lHu-1n",
        "colab": {
          "base_uri": "https://localhost:8080/"
        },
        "outputId": "4a3b837e-efac-4a37-ab84-f3c7d0c0bc3a"
      },
      "execution_count": 32,
      "outputs": [
        {
          "output_type": "stream",
          "name": "stdout",
          "text": [
            "{'xgb': {'fit_time': array([ 6.91605592, 10.61563683,  6.30350637, 10.23177767, 10.61897326]), 'score_time': array([0.13904691, 0.14012718, 0.14119005, 0.14343381, 0.14343643]), 'estimator': [XGBClassifier(base_score=None, booster=None, callbacks=None,\n",
            "              colsample_bylevel=None, colsample_bynode=None,\n",
            "              colsample_bytree=None, device=None, early_stopping_rounds=None,\n",
            "              enable_categorical=False, eval_metric=None, feature_types=None,\n",
            "              gamma=None, grow_policy=None, importance_type=None,\n",
            "              interaction_constraints=None, learning_rate=0.01, max_bin=None,\n",
            "              max_cat_threshold=None, max_cat_to_onehot=None,\n",
            "              max_delta_step=None, max_depth=3, max_leaves=None,\n",
            "              min_child_weight=1, missing=nan, monotone_constraints=None,\n",
            "              multi_strategy=None, n_estimators=100, n_jobs=None,\n",
            "              num_parallel_tree=None, objective='multi:softprob', ...), XGBClassifier(base_score=None, booster=None, callbacks=None,\n",
            "              colsample_bylevel=None, colsample_bynode=None,\n",
            "              colsample_bytree=None, device=None, early_stopping_rounds=None,\n",
            "              enable_categorical=False, eval_metric=None, feature_types=None,\n",
            "              gamma=None, grow_policy=None, importance_type=None,\n",
            "              interaction_constraints=None, learning_rate=0.01, max_bin=None,\n",
            "              max_cat_threshold=None, max_cat_to_onehot=None,\n",
            "              max_delta_step=None, max_depth=3, max_leaves=None,\n",
            "              min_child_weight=1, missing=nan, monotone_constraints=None,\n",
            "              multi_strategy=None, n_estimators=100, n_jobs=None,\n",
            "              num_parallel_tree=None, objective='multi:softprob', ...), XGBClassifier(base_score=None, booster=None, callbacks=None,\n",
            "              colsample_bylevel=None, colsample_bynode=None,\n",
            "              colsample_bytree=None, device=None, early_stopping_rounds=None,\n",
            "              enable_categorical=False, eval_metric=None, feature_types=None,\n",
            "              gamma=None, grow_policy=None, importance_type=None,\n",
            "              interaction_constraints=None, learning_rate=0.01, max_bin=None,\n",
            "              max_cat_threshold=None, max_cat_to_onehot=None,\n",
            "              max_delta_step=None, max_depth=3, max_leaves=None,\n",
            "              min_child_weight=1, missing=nan, monotone_constraints=None,\n",
            "              multi_strategy=None, n_estimators=100, n_jobs=None,\n",
            "              num_parallel_tree=None, objective='multi:softprob', ...), XGBClassifier(base_score=None, booster=None, callbacks=None,\n",
            "              colsample_bylevel=None, colsample_bynode=None,\n",
            "              colsample_bytree=None, device=None, early_stopping_rounds=None,\n",
            "              enable_categorical=False, eval_metric=None, feature_types=None,\n",
            "              gamma=None, grow_policy=None, importance_type=None,\n",
            "              interaction_constraints=None, learning_rate=0.01, max_bin=None,\n",
            "              max_cat_threshold=None, max_cat_to_onehot=None,\n",
            "              max_delta_step=None, max_depth=3, max_leaves=None,\n",
            "              min_child_weight=1, missing=nan, monotone_constraints=None,\n",
            "              multi_strategy=None, n_estimators=100, n_jobs=None,\n",
            "              num_parallel_tree=None, objective='multi:softprob', ...), XGBClassifier(base_score=None, booster=None, callbacks=None,\n",
            "              colsample_bylevel=None, colsample_bynode=None,\n",
            "              colsample_bytree=None, device=None, early_stopping_rounds=None,\n",
            "              enable_categorical=False, eval_metric=None, feature_types=None,\n",
            "              gamma=None, grow_policy=None, importance_type=None,\n",
            "              interaction_constraints=None, learning_rate=0.01, max_bin=None,\n",
            "              max_cat_threshold=None, max_cat_to_onehot=None,\n",
            "              max_delta_step=None, max_depth=3, max_leaves=None,\n",
            "              min_child_weight=1, missing=nan, monotone_constraints=None,\n",
            "              multi_strategy=None, n_estimators=100, n_jobs=None,\n",
            "              num_parallel_tree=None, objective='multi:softprob', ...)], 'test_score': array([0.68821387, 0.68810351, 0.68853635, 0.68776383, 0.68815009]), 'train_score': array([0.68813845, 0.68816604, 0.68805783, 0.68825096, 0.68815439])}, 'RFR': {'fit_time': array([1.73365664, 1.81677508, 1.80722451, 2.54290533, 3.089082  ]), 'score_time': array([0.0835402 , 0.08375287, 0.08271718, 0.12330532, 0.10784364]), 'estimator': [RandomForestClassifier(max_depth=10, min_samples_leaf=4, min_samples_split=10,\n",
            "                       n_estimators=20), RandomForestClassifier(max_depth=10, min_samples_leaf=4, min_samples_split=10,\n",
            "                       n_estimators=20), RandomForestClassifier(max_depth=10, min_samples_leaf=4, min_samples_split=10,\n",
            "                       n_estimators=20), RandomForestClassifier(max_depth=10, min_samples_leaf=4, min_samples_split=10,\n",
            "                       n_estimators=20), RandomForestClassifier(max_depth=10, min_samples_leaf=4, min_samples_split=10,\n",
            "                       n_estimators=20)], 'test_score': array([0.69055896, 0.68989682, 0.69135053, 0.68966754, 0.69041247]), 'train_score': array([0.69112504, 0.69146302, 0.69111338, 0.69154792, 0.69127892])}, 'Dtr': {'fit_time': array([0.13794351, 0.12647772, 0.57392478, 0.14342666, 0.12748408]), 'score_time': array([0.00654483, 0.00661039, 0.00986433, 0.00673723, 0.00664663]), 'estimator': [DecisionTreeClassifier(max_features='auto'), DecisionTreeClassifier(max_features='auto'), DecisionTreeClassifier(max_features='auto'), DecisionTreeClassifier(max_features='auto'), DecisionTreeClassifier(max_features='auto')], 'test_score': array([0.69022789, 0.68901396, 0.68972272, 0.68878466, 0.68870189]), 'train_score': array([0.69355985, 0.69383574, 0.69358265, 0.69387234, 0.6937068 ])}}\n"
          ]
        }
      ]
    },
    {
      "cell_type": "code",
      "source": [
        "# Getting mean of all train scores in cross validation\n",
        "{nm: np.mean(scr[\"train_score\"]) for nm, scr in cv_results_cls_reg.items()}"
      ],
      "metadata": {
        "id": "nOEkM7iFkgI-",
        "colab": {
          "base_uri": "https://localhost:8080/"
        },
        "outputId": "79fba338-a573-4175-9cc9-7b83e54b9db7"
      },
      "execution_count": 34,
      "outputs": [
        {
          "output_type": "execute_result",
          "data": {
            "text/plain": [
              "{'xgb': 0.6881535312031579,\n",
              " 'RFR': 0.6913056553062633,\n",
              " 'Dtr': 0.6937114778325444}"
            ]
          },
          "metadata": {},
          "execution_count": 34
        }
      ]
    },
    {
      "cell_type": "code",
      "source": [
        " # Getting mean of all test scores in cross validation\n",
        "{nm: np.mean(scr[\"test_score\"]) for nm, scr in cv_results_cls_reg.items()}"
      ],
      "metadata": {
        "colab": {
          "base_uri": "https://localhost:8080/"
        },
        "id": "jx2Fr4IDE4FP",
        "outputId": "66bb7d49-262a-4bbc-cba9-2a4c5ed26c0f"
      },
      "execution_count": 35,
      "outputs": [
        {
          "output_type": "execute_result",
          "data": {
            "text/plain": [
              "{'xgb': 0.688153531149749,\n",
              " 'RFR': 0.6903772633148051,\n",
              " 'Dtr': 0.6892902235240868}"
            ]
          },
          "metadata": {},
          "execution_count": 35
        }
      ]
    },
    {
      "cell_type": "markdown",
      "source": [
        "**Among the three models, Xgboost, Random Forest, Decision tree regressors;**\n",
        "\n",
        "**Random Forest regressor is performing well with accuracy score of 0.69.**\n",
        "\n",
        "**Let's check with some other models accuracy too**"
      ],
      "metadata": {
        "id": "uRvMjvZoMrsC"
      }
    },
    {
      "cell_type": "markdown",
      "source": [
        "# Hyperparameter Tuning for KNN"
      ],
      "metadata": {
        "id": "M1q_Bv08l18r"
      }
    },
    {
      "cell_type": "code",
      "source": [
        "from sklearn.model_selection import GridSearchCV\n",
        "from sklearn.neighbors import KNeighborsClassifier\n",
        "\n",
        "\n",
        "# Define the KNN classifier\n",
        "knn_classifier = KNeighborsClassifier()\n",
        "\n",
        "# Define the hyperparameter grid\n",
        "param_grid = {\n",
        "    'n_neighbors': [3, 5, 7, 9],  # You can extend this list based on your requirements\n",
        "    'weights': ['uniform', 'distance'],  # Different weighting schemes\n",
        "    'p': [1, 2]  # 1 for Manhattan distance, 2 for Euclidean distance\n",
        "}\n",
        "\n",
        "# Create GridSearchCV\n",
        "grid_search = GridSearchCV(estimator=knn_classifier, param_grid=param_grid, scoring='accuracy', cv=5, n_jobs=-1)\n",
        "\n",
        "# Fit the grid search to the data\n",
        "grid_search.fit(X_train[:6000,:], y_train[:6000])\n",
        "\n",
        "# Print the best parameters\n",
        "print(\"Best Parameters:\", grid_search.best_params_)\n",
        "\n",
        "# Get the best model\n",
        "best_knn_model = grid_search.best_estimator_\n",
        "print(best_knn_model)"
      ],
      "metadata": {
        "colab": {
          "base_uri": "https://localhost:8080/"
        },
        "id": "vap-LY8Ml0Ao",
        "outputId": "5947b56f-cdd8-418f-82a3-4af71fca650a"
      },
      "execution_count": 36,
      "outputs": [
        {
          "output_type": "stream",
          "name": "stdout",
          "text": [
            "Best Parameters: {'n_neighbors': 9, 'p': 2, 'weights': 'uniform'}\n",
            "KNeighborsClassifier(n_neighbors=9)\n"
          ]
        }
      ]
    },
    {
      "cell_type": "code",
      "source": [
        "knn_moel_classifier = KNeighborsClassifier(n_neighbors=9,p=2,weights='uniform')"
      ],
      "metadata": {
        "id": "dVGM8sHftrtS"
      },
      "execution_count": 37,
      "outputs": []
    },
    {
      "cell_type": "code",
      "source": [
        "knn_cv_model_results = cross_validate(knn_moel_classifier, X_train[:6000,:], y_train[:6000],scoring='accuracy', return_estimator=True,return_train_score=True, cv=5,verbose=2)"
      ],
      "metadata": {
        "id": "BkRPruZnt_RN",
        "colab": {
          "base_uri": "https://localhost:8080/"
        },
        "outputId": "b302b5d4-5160-4a9e-d1b2-cff41b46be48"
      },
      "execution_count": 38,
      "outputs": [
        {
          "output_type": "stream",
          "name": "stdout",
          "text": [
            "[CV] END .................................................... total time=   0.1s\n",
            "[CV] END .................................................... total time=   0.2s\n",
            "[CV] END .................................................... total time=   0.1s\n",
            "[CV] END .................................................... total time=   0.1s\n",
            "[CV] END .................................................... total time=   0.1s\n"
          ]
        }
      ]
    },
    {
      "cell_type": "code",
      "source": [
        "knn_cv_model_results.items()"
      ],
      "metadata": {
        "id": "_3lSIHXcuoYy",
        "colab": {
          "base_uri": "https://localhost:8080/"
        },
        "outputId": "20f1756d-ffa7-4298-e695-408ddf5041a1"
      },
      "execution_count": 39,
      "outputs": [
        {
          "output_type": "execute_result",
          "data": {
            "text/plain": [
              "dict_items([('fit_time', array([0.00796318, 0.00622916, 0.00617743, 0.00608039, 0.00632858])), ('score_time', array([0.0797987 , 0.15538335, 0.0939796 , 0.08132339, 0.08362985])), ('estimator', [KNeighborsClassifier(n_neighbors=9), KNeighborsClassifier(n_neighbors=9), KNeighborsClassifier(n_neighbors=9), KNeighborsClassifier(n_neighbors=9), KNeighborsClassifier(n_neighbors=9)]), ('test_score', array([0.53083333, 0.68      , 0.685     , 0.68166667, 0.66833333])), ('train_score', array([0.53833333, 0.69125   , 0.69145833, 0.68104167, 0.68229167]))])"
            ]
          },
          "metadata": {},
          "execution_count": 39
        }
      ]
    },
    {
      "cell_type": "code",
      "source": [
        "np.mean(knn_cv_model_results[\"train_score\"])"
      ],
      "metadata": {
        "id": "CyBrPTBOutkT",
        "colab": {
          "base_uri": "https://localhost:8080/"
        },
        "outputId": "8c15d28f-44f8-41f4-eab3-cac6e499b54d"
      },
      "execution_count": 40,
      "outputs": [
        {
          "output_type": "execute_result",
          "data": {
            "text/plain": [
              "0.656875"
            ]
          },
          "metadata": {},
          "execution_count": 40
        }
      ]
    },
    {
      "cell_type": "code",
      "source": [
        "np.mean(knn_cv_model_results[\"test_score\"])"
      ],
      "metadata": {
        "id": "SHD4P16wuxxq",
        "colab": {
          "base_uri": "https://localhost:8080/"
        },
        "outputId": "2b4ccbcb-2f90-4fb1-d9e4-d6e1ff1af278"
      },
      "execution_count": 41,
      "outputs": [
        {
          "output_type": "execute_result",
          "data": {
            "text/plain": [
              "0.6491666666666667"
            ]
          },
          "metadata": {},
          "execution_count": 41
        }
      ]
    },
    {
      "cell_type": "markdown",
      "source": [
        "**The accuracy score for KNN Model for,**\n",
        "\n",
        "**Test score is 0.64**\n",
        "**Train score is 0.65**"
      ],
      "metadata": {
        "id": "a6E3BMaoNWuY"
      }
    },
    {
      "cell_type": "markdown",
      "source": [
        "#Hyperparamenter Tuning for SVM"
      ],
      "metadata": {
        "id": "NHG3pSL6a7jm"
      }
    },
    {
      "cell_type": "code",
      "source": [
        "from sklearn.svm import SVC\n",
        "from sklearn.model_selection import RandomizedSearchCV\n",
        "model=SVC()\n",
        "param_grid={'C': np.logspace(-3,3, num=200, base=10), 'kernel':['rbf','linear', 'poly','sigmoid']}\n",
        "rdm_search= RandomizedSearchCV(model, param_grid, scoring='accuracy', n_jobs=-1, cv=5, random_state=1)"
      ],
      "metadata": {
        "id": "Xu2x_bK5bA79"
      },
      "execution_count": 42,
      "outputs": []
    },
    {
      "cell_type": "code",
      "source": [
        "rdm_search.fit(X_train[:6000,:], y_train[:6000])"
      ],
      "metadata": {
        "colab": {
          "base_uri": "https://localhost:8080/",
          "height": 118
        },
        "id": "01LcgLWpbOV-",
        "outputId": "67ea2384-0f9b-470c-e87d-322ea5ffebff"
      },
      "execution_count": 43,
      "outputs": [
        {
          "output_type": "execute_result",
          "data": {
            "text/plain": [
              "RandomizedSearchCV(cv=5, estimator=SVC(), n_jobs=-1,\n",
              "                   param_distributions={'C': array([1.00000000e-03, 1.07189132e-03, 1.14895100e-03, 1.23155060e-03,\n",
              "       1.32008840e-03, 1.41499130e-03, 1.51671689e-03, 1.62575567e-03,\n",
              "       1.74263339e-03, 1.86791360e-03, 2.00220037e-03, 2.14614120e-03,\n",
              "       2.30043012e-03, 2.46581108e-03, 2.64308149e-03, 2.83309610e-03,\n",
              "       3.03677112e-03, 3.25508860e-0...\n",
              "       2.67384162e+02, 2.86606762e+02, 3.07211300e+02, 3.29297126e+02,\n",
              "       3.52970730e+02, 3.78346262e+02, 4.05546074e+02, 4.34701316e+02,\n",
              "       4.65952567e+02, 4.99450512e+02, 5.35356668e+02, 5.73844165e+02,\n",
              "       6.15098579e+02, 6.59318827e+02, 7.06718127e+02, 7.57525026e+02,\n",
              "       8.11984499e+02, 8.70359136e+02, 9.32930403e+02, 1.00000000e+03]),\n",
              "                                        'kernel': ['rbf', 'linear', 'poly',\n",
              "                                                   'sigmoid']},\n",
              "                   random_state=1, scoring='accuracy')"
            ],
            "text/html": [
              "<style>#sk-container-id-2 {color: black;background-color: white;}#sk-container-id-2 pre{padding: 0;}#sk-container-id-2 div.sk-toggleable {background-color: white;}#sk-container-id-2 label.sk-toggleable__label {cursor: pointer;display: block;width: 100%;margin-bottom: 0;padding: 0.3em;box-sizing: border-box;text-align: center;}#sk-container-id-2 label.sk-toggleable__label-arrow:before {content: \"▸\";float: left;margin-right: 0.25em;color: #696969;}#sk-container-id-2 label.sk-toggleable__label-arrow:hover:before {color: black;}#sk-container-id-2 div.sk-estimator:hover label.sk-toggleable__label-arrow:before {color: black;}#sk-container-id-2 div.sk-toggleable__content {max-height: 0;max-width: 0;overflow: hidden;text-align: left;background-color: #f0f8ff;}#sk-container-id-2 div.sk-toggleable__content pre {margin: 0.2em;color: black;border-radius: 0.25em;background-color: #f0f8ff;}#sk-container-id-2 input.sk-toggleable__control:checked~div.sk-toggleable__content {max-height: 200px;max-width: 100%;overflow: auto;}#sk-container-id-2 input.sk-toggleable__control:checked~label.sk-toggleable__label-arrow:before {content: \"▾\";}#sk-container-id-2 div.sk-estimator input.sk-toggleable__control:checked~label.sk-toggleable__label {background-color: #d4ebff;}#sk-container-id-2 div.sk-label input.sk-toggleable__control:checked~label.sk-toggleable__label {background-color: #d4ebff;}#sk-container-id-2 input.sk-hidden--visually {border: 0;clip: rect(1px 1px 1px 1px);clip: rect(1px, 1px, 1px, 1px);height: 1px;margin: -1px;overflow: hidden;padding: 0;position: absolute;width: 1px;}#sk-container-id-2 div.sk-estimator {font-family: monospace;background-color: #f0f8ff;border: 1px dotted black;border-radius: 0.25em;box-sizing: border-box;margin-bottom: 0.5em;}#sk-container-id-2 div.sk-estimator:hover {background-color: #d4ebff;}#sk-container-id-2 div.sk-parallel-item::after {content: \"\";width: 100%;border-bottom: 1px solid gray;flex-grow: 1;}#sk-container-id-2 div.sk-label:hover label.sk-toggleable__label {background-color: #d4ebff;}#sk-container-id-2 div.sk-serial::before {content: \"\";position: absolute;border-left: 1px solid gray;box-sizing: border-box;top: 0;bottom: 0;left: 50%;z-index: 0;}#sk-container-id-2 div.sk-serial {display: flex;flex-direction: column;align-items: center;background-color: white;padding-right: 0.2em;padding-left: 0.2em;position: relative;}#sk-container-id-2 div.sk-item {position: relative;z-index: 1;}#sk-container-id-2 div.sk-parallel {display: flex;align-items: stretch;justify-content: center;background-color: white;position: relative;}#sk-container-id-2 div.sk-item::before, #sk-container-id-2 div.sk-parallel-item::before {content: \"\";position: absolute;border-left: 1px solid gray;box-sizing: border-box;top: 0;bottom: 0;left: 50%;z-index: -1;}#sk-container-id-2 div.sk-parallel-item {display: flex;flex-direction: column;z-index: 1;position: relative;background-color: white;}#sk-container-id-2 div.sk-parallel-item:first-child::after {align-self: flex-end;width: 50%;}#sk-container-id-2 div.sk-parallel-item:last-child::after {align-self: flex-start;width: 50%;}#sk-container-id-2 div.sk-parallel-item:only-child::after {width: 0;}#sk-container-id-2 div.sk-dashed-wrapped {border: 1px dashed gray;margin: 0 0.4em 0.5em 0.4em;box-sizing: border-box;padding-bottom: 0.4em;background-color: white;}#sk-container-id-2 div.sk-label label {font-family: monospace;font-weight: bold;display: inline-block;line-height: 1.2em;}#sk-container-id-2 div.sk-label-container {text-align: center;}#sk-container-id-2 div.sk-container {/* jupyter's `normalize.less` sets `[hidden] { display: none; }` but bootstrap.min.css set `[hidden] { display: none !important; }` so we also need the `!important` here to be able to override the default hidden behavior on the sphinx rendered scikit-learn.org. See: https://github.com/scikit-learn/scikit-learn/issues/21755 */display: inline-block !important;position: relative;}#sk-container-id-2 div.sk-text-repr-fallback {display: none;}</style><div id=\"sk-container-id-2\" class=\"sk-top-container\"><div class=\"sk-text-repr-fallback\"><pre>RandomizedSearchCV(cv=5, estimator=SVC(), n_jobs=-1,\n",
              "                   param_distributions={&#x27;C&#x27;: array([1.00000000e-03, 1.07189132e-03, 1.14895100e-03, 1.23155060e-03,\n",
              "       1.32008840e-03, 1.41499130e-03, 1.51671689e-03, 1.62575567e-03,\n",
              "       1.74263339e-03, 1.86791360e-03, 2.00220037e-03, 2.14614120e-03,\n",
              "       2.30043012e-03, 2.46581108e-03, 2.64308149e-03, 2.83309610e-03,\n",
              "       3.03677112e-03, 3.25508860e-0...\n",
              "       2.67384162e+02, 2.86606762e+02, 3.07211300e+02, 3.29297126e+02,\n",
              "       3.52970730e+02, 3.78346262e+02, 4.05546074e+02, 4.34701316e+02,\n",
              "       4.65952567e+02, 4.99450512e+02, 5.35356668e+02, 5.73844165e+02,\n",
              "       6.15098579e+02, 6.59318827e+02, 7.06718127e+02, 7.57525026e+02,\n",
              "       8.11984499e+02, 8.70359136e+02, 9.32930403e+02, 1.00000000e+03]),\n",
              "                                        &#x27;kernel&#x27;: [&#x27;rbf&#x27;, &#x27;linear&#x27;, &#x27;poly&#x27;,\n",
              "                                                   &#x27;sigmoid&#x27;]},\n",
              "                   random_state=1, scoring=&#x27;accuracy&#x27;)</pre><b>In a Jupyter environment, please rerun this cell to show the HTML representation or trust the notebook. <br />On GitHub, the HTML representation is unable to render, please try loading this page with nbviewer.org.</b></div><div class=\"sk-container\" hidden><div class=\"sk-item sk-dashed-wrapped\"><div class=\"sk-label-container\"><div class=\"sk-label sk-toggleable\"><input class=\"sk-toggleable__control sk-hidden--visually\" id=\"sk-estimator-id-4\" type=\"checkbox\" ><label for=\"sk-estimator-id-4\" class=\"sk-toggleable__label sk-toggleable__label-arrow\">RandomizedSearchCV</label><div class=\"sk-toggleable__content\"><pre>RandomizedSearchCV(cv=5, estimator=SVC(), n_jobs=-1,\n",
              "                   param_distributions={&#x27;C&#x27;: array([1.00000000e-03, 1.07189132e-03, 1.14895100e-03, 1.23155060e-03,\n",
              "       1.32008840e-03, 1.41499130e-03, 1.51671689e-03, 1.62575567e-03,\n",
              "       1.74263339e-03, 1.86791360e-03, 2.00220037e-03, 2.14614120e-03,\n",
              "       2.30043012e-03, 2.46581108e-03, 2.64308149e-03, 2.83309610e-03,\n",
              "       3.03677112e-03, 3.25508860e-0...\n",
              "       2.67384162e+02, 2.86606762e+02, 3.07211300e+02, 3.29297126e+02,\n",
              "       3.52970730e+02, 3.78346262e+02, 4.05546074e+02, 4.34701316e+02,\n",
              "       4.65952567e+02, 4.99450512e+02, 5.35356668e+02, 5.73844165e+02,\n",
              "       6.15098579e+02, 6.59318827e+02, 7.06718127e+02, 7.57525026e+02,\n",
              "       8.11984499e+02, 8.70359136e+02, 9.32930403e+02, 1.00000000e+03]),\n",
              "                                        &#x27;kernel&#x27;: [&#x27;rbf&#x27;, &#x27;linear&#x27;, &#x27;poly&#x27;,\n",
              "                                                   &#x27;sigmoid&#x27;]},\n",
              "                   random_state=1, scoring=&#x27;accuracy&#x27;)</pre></div></div></div><div class=\"sk-parallel\"><div class=\"sk-parallel-item\"><div class=\"sk-item\"><div class=\"sk-label-container\"><div class=\"sk-label sk-toggleable\"><input class=\"sk-toggleable__control sk-hidden--visually\" id=\"sk-estimator-id-5\" type=\"checkbox\" ><label for=\"sk-estimator-id-5\" class=\"sk-toggleable__label sk-toggleable__label-arrow\">estimator: SVC</label><div class=\"sk-toggleable__content\"><pre>SVC()</pre></div></div></div><div class=\"sk-serial\"><div class=\"sk-item\"><div class=\"sk-estimator sk-toggleable\"><input class=\"sk-toggleable__control sk-hidden--visually\" id=\"sk-estimator-id-6\" type=\"checkbox\" ><label for=\"sk-estimator-id-6\" class=\"sk-toggleable__label sk-toggleable__label-arrow\">SVC</label><div class=\"sk-toggleable__content\"><pre>SVC()</pre></div></div></div></div></div></div></div></div></div></div>"
            ]
          },
          "metadata": {},
          "execution_count": 43
        }
      ]
    },
    {
      "cell_type": "code",
      "source": [
        "rdm_search.best_estimator_"
      ],
      "metadata": {
        "colab": {
          "base_uri": "https://localhost:8080/",
          "height": 75
        },
        "id": "ZMAYB-lAbaSs",
        "outputId": "f153fe00-2abe-4ba9-f154-eb9432bfc711"
      },
      "execution_count": 44,
      "outputs": [
        {
          "output_type": "execute_result",
          "data": {
            "text/plain": [
              "SVC(C=573.8441648302393)"
            ],
            "text/html": [
              "<style>#sk-container-id-3 {color: black;background-color: white;}#sk-container-id-3 pre{padding: 0;}#sk-container-id-3 div.sk-toggleable {background-color: white;}#sk-container-id-3 label.sk-toggleable__label {cursor: pointer;display: block;width: 100%;margin-bottom: 0;padding: 0.3em;box-sizing: border-box;text-align: center;}#sk-container-id-3 label.sk-toggleable__label-arrow:before {content: \"▸\";float: left;margin-right: 0.25em;color: #696969;}#sk-container-id-3 label.sk-toggleable__label-arrow:hover:before {color: black;}#sk-container-id-3 div.sk-estimator:hover label.sk-toggleable__label-arrow:before {color: black;}#sk-container-id-3 div.sk-toggleable__content {max-height: 0;max-width: 0;overflow: hidden;text-align: left;background-color: #f0f8ff;}#sk-container-id-3 div.sk-toggleable__content pre {margin: 0.2em;color: black;border-radius: 0.25em;background-color: #f0f8ff;}#sk-container-id-3 input.sk-toggleable__control:checked~div.sk-toggleable__content {max-height: 200px;max-width: 100%;overflow: auto;}#sk-container-id-3 input.sk-toggleable__control:checked~label.sk-toggleable__label-arrow:before {content: \"▾\";}#sk-container-id-3 div.sk-estimator input.sk-toggleable__control:checked~label.sk-toggleable__label {background-color: #d4ebff;}#sk-container-id-3 div.sk-label input.sk-toggleable__control:checked~label.sk-toggleable__label {background-color: #d4ebff;}#sk-container-id-3 input.sk-hidden--visually {border: 0;clip: rect(1px 1px 1px 1px);clip: rect(1px, 1px, 1px, 1px);height: 1px;margin: -1px;overflow: hidden;padding: 0;position: absolute;width: 1px;}#sk-container-id-3 div.sk-estimator {font-family: monospace;background-color: #f0f8ff;border: 1px dotted black;border-radius: 0.25em;box-sizing: border-box;margin-bottom: 0.5em;}#sk-container-id-3 div.sk-estimator:hover {background-color: #d4ebff;}#sk-container-id-3 div.sk-parallel-item::after {content: \"\";width: 100%;border-bottom: 1px solid gray;flex-grow: 1;}#sk-container-id-3 div.sk-label:hover label.sk-toggleable__label {background-color: #d4ebff;}#sk-container-id-3 div.sk-serial::before {content: \"\";position: absolute;border-left: 1px solid gray;box-sizing: border-box;top: 0;bottom: 0;left: 50%;z-index: 0;}#sk-container-id-3 div.sk-serial {display: flex;flex-direction: column;align-items: center;background-color: white;padding-right: 0.2em;padding-left: 0.2em;position: relative;}#sk-container-id-3 div.sk-item {position: relative;z-index: 1;}#sk-container-id-3 div.sk-parallel {display: flex;align-items: stretch;justify-content: center;background-color: white;position: relative;}#sk-container-id-3 div.sk-item::before, #sk-container-id-3 div.sk-parallel-item::before {content: \"\";position: absolute;border-left: 1px solid gray;box-sizing: border-box;top: 0;bottom: 0;left: 50%;z-index: -1;}#sk-container-id-3 div.sk-parallel-item {display: flex;flex-direction: column;z-index: 1;position: relative;background-color: white;}#sk-container-id-3 div.sk-parallel-item:first-child::after {align-self: flex-end;width: 50%;}#sk-container-id-3 div.sk-parallel-item:last-child::after {align-self: flex-start;width: 50%;}#sk-container-id-3 div.sk-parallel-item:only-child::after {width: 0;}#sk-container-id-3 div.sk-dashed-wrapped {border: 1px dashed gray;margin: 0 0.4em 0.5em 0.4em;box-sizing: border-box;padding-bottom: 0.4em;background-color: white;}#sk-container-id-3 div.sk-label label {font-family: monospace;font-weight: bold;display: inline-block;line-height: 1.2em;}#sk-container-id-3 div.sk-label-container {text-align: center;}#sk-container-id-3 div.sk-container {/* jupyter's `normalize.less` sets `[hidden] { display: none; }` but bootstrap.min.css set `[hidden] { display: none !important; }` so we also need the `!important` here to be able to override the default hidden behavior on the sphinx rendered scikit-learn.org. See: https://github.com/scikit-learn/scikit-learn/issues/21755 */display: inline-block !important;position: relative;}#sk-container-id-3 div.sk-text-repr-fallback {display: none;}</style><div id=\"sk-container-id-3\" class=\"sk-top-container\"><div class=\"sk-text-repr-fallback\"><pre>SVC(C=573.8441648302393)</pre><b>In a Jupyter environment, please rerun this cell to show the HTML representation or trust the notebook. <br />On GitHub, the HTML representation is unable to render, please try loading this page with nbviewer.org.</b></div><div class=\"sk-container\" hidden><div class=\"sk-item\"><div class=\"sk-estimator sk-toggleable\"><input class=\"sk-toggleable__control sk-hidden--visually\" id=\"sk-estimator-id-7\" type=\"checkbox\" checked><label for=\"sk-estimator-id-7\" class=\"sk-toggleable__label sk-toggleable__label-arrow\">SVC</label><div class=\"sk-toggleable__content\"><pre>SVC(C=573.8441648302393)</pre></div></div></div></div></div>"
            ]
          },
          "metadata": {},
          "execution_count": 44
        }
      ]
    },
    {
      "cell_type": "code",
      "source": [
        "rdm_search.best_score_"
      ],
      "metadata": {
        "colab": {
          "base_uri": "https://localhost:8080/"
        },
        "id": "pqOBhHnkbeZI",
        "outputId": "58ae54c2-d791-4d60-86cf-9e6f87a59fa2"
      },
      "execution_count": 45,
      "outputs": [
        {
          "output_type": "execute_result",
          "data": {
            "text/plain": [
              "0.691"
            ]
          },
          "metadata": {},
          "execution_count": 45
        }
      ]
    },
    {
      "cell_type": "code",
      "source": [
        "model_svc=SVC(kernel='poly', C=573.8441 )"
      ],
      "metadata": {
        "id": "qOECBRJRrw3I"
      },
      "execution_count": 46,
      "outputs": []
    },
    {
      "cell_type": "code",
      "source": [
        "svc_model_cv_result = cross_validate(model_svc, X_train[:6000,:], y_train[:6000],scoring='accuracy', return_estimator=True,return_train_score=True, cv=5,verbose=2)"
      ],
      "metadata": {
        "colab": {
          "base_uri": "https://localhost:8080/"
        },
        "id": "IPNcZ3NUruHe",
        "outputId": "e402f645-b6d4-4592-de28-b2e78cafdab6"
      },
      "execution_count": 47,
      "outputs": [
        {
          "output_type": "stream",
          "name": "stdout",
          "text": [
            "[CV] END .................................................... total time=   3.6s\n",
            "[CV] END .................................................... total time=   3.5s\n",
            "[CV] END .................................................... total time=   4.3s\n",
            "[CV] END .................................................... total time=   3.5s\n",
            "[CV] END .................................................... total time=   2.5s\n"
          ]
        }
      ]
    },
    {
      "cell_type": "code",
      "source": [
        "svc_model_cv_result.items()"
      ],
      "metadata": {
        "id": "Y6Vp2_5zub0O",
        "colab": {
          "base_uri": "https://localhost:8080/"
        },
        "outputId": "ed4eb313-93b3-4b77-97a9-488dbbd62153"
      },
      "execution_count": 48,
      "outputs": [
        {
          "output_type": "execute_result",
          "data": {
            "text/plain": [
              "dict_items([('fit_time', array([3.5183084 , 3.3938992 , 4.07963777, 3.33837986, 2.35335517])), ('score_time', array([0.11559653, 0.11272645, 0.19381142, 0.13594794, 0.10862207])), ('estimator', [SVC(C=573.8441, kernel='poly'), SVC(C=573.8441, kernel='poly'), SVC(C=573.8441, kernel='poly'), SVC(C=573.8441, kernel='poly'), SVC(C=573.8441, kernel='poly')]), ('test_score', array([0.6825    , 0.69166667, 0.67833333, 0.68333333, 0.68166667])), ('train_score', array([0.6875    , 0.69520833, 0.68916667, 0.68854167, 0.68854167]))])"
            ]
          },
          "metadata": {},
          "execution_count": 48
        }
      ]
    },
    {
      "cell_type": "code",
      "source": [
        "np.mean(svc_model_cv_result[\"train_score\"])"
      ],
      "metadata": {
        "colab": {
          "base_uri": "https://localhost:8080/"
        },
        "id": "0yAeH6NytTre",
        "outputId": "03777a77-9801-4012-95b1-42f4e4e5e2f4"
      },
      "execution_count": 49,
      "outputs": [
        {
          "output_type": "execute_result",
          "data": {
            "text/plain": [
              "0.6897916666666667"
            ]
          },
          "metadata": {},
          "execution_count": 49
        }
      ]
    },
    {
      "cell_type": "code",
      "source": [
        "np.mean(svc_model_cv_result[\"test_score\"])"
      ],
      "metadata": {
        "colab": {
          "base_uri": "https://localhost:8080/"
        },
        "id": "hPYfJjJ6sTZ2",
        "outputId": "3ed8e64c-7ca1-450e-9025-4d59ec647c4e"
      },
      "execution_count": 50,
      "outputs": [
        {
          "output_type": "execute_result",
          "data": {
            "text/plain": [
              "0.6834999999999999"
            ]
          },
          "metadata": {},
          "execution_count": 50
        }
      ]
    },
    {
      "cell_type": "markdown",
      "source": [
        "**The accuracy score for SVM Model for,**\n",
        "\n",
        "**Test score is 0.683 Train score is 0.689**"
      ],
      "metadata": {
        "id": "gavbXJ2fOXGD"
      }
    },
    {
      "cell_type": "markdown",
      "source": [
        "# Voting ensemble model"
      ],
      "metadata": {
        "id": "0LfU5Ycsqq3N"
      }
    },
    {
      "cell_type": "code",
      "source": [
        "from sklearn.ensemble import VotingClassifier\n",
        "from sklearn.model_selection import cross_validate\n",
        "from sklearn.svm import SVC\n",
        "import numpy as np\n",
        "\n",
        "# Define individual classifiers\n",
        "svc_model1 = SVC(kernel='rbf', C=1.0)\n",
        "svc_model2 = SVC(kernel='linear', C=1.0)\n",
        "svc_model3 = SVC(kernel='poly', C=1.0)\n",
        "\n",
        "# Create a VotingClassifier\n",
        "voting_classifier = VotingClassifier(estimators=[\n",
        "    ('rbf', svc_model1),\n",
        "    ('linear', svc_model2),\n",
        "    ('poly', svc_model3)\n",
        "], voting='hard')\n",
        "\n",
        "# Train the VotingClassifier using cross-validation\n",
        "voting_model_cv_result = cross_validate(voting_classifier, X_train[:6000, :], y_train[:6000],\n",
        "                                       scoring='accuracy', return_estimator=True,\n",
        "                                       return_train_score=True, cv=5, verbose=2)\n",
        "\n"
      ],
      "metadata": {
        "id": "35sabi8MqnP7",
        "colab": {
          "base_uri": "https://localhost:8080/"
        },
        "outputId": "3a5e0af5-005b-466b-a770-5efcb3af951f"
      },
      "execution_count": 59,
      "outputs": [
        {
          "output_type": "stream",
          "name": "stdout",
          "text": [
            "[CV] END .................................................... total time=   3.5s\n",
            "[CV] END .................................................... total time=   2.2s\n",
            "[CV] END .................................................... total time=   2.2s\n",
            "[CV] END .................................................... total time=   3.7s\n",
            "[CV] END .................................................... total time=   2.8s\n"
          ]
        }
      ]
    },
    {
      "cell_type": "code",
      "source": [
        "# Mean training accuracy\n",
        "np.mean(voting_model_cv_result[\"train_score\"])\n"
      ],
      "metadata": {
        "colab": {
          "base_uri": "https://localhost:8080/"
        },
        "id": "ToMhN-oNScoD",
        "outputId": "df9811b9-6bd1-4fdc-fba0-61ebcace9fe2"
      },
      "execution_count": 60,
      "outputs": [
        {
          "output_type": "execute_result",
          "data": {
            "text/plain": [
              "0.6859166666666667"
            ]
          },
          "metadata": {},
          "execution_count": 60
        }
      ]
    },
    {
      "cell_type": "code",
      "source": [
        "\n",
        "# Mean testing accuracy\n",
        "np.mean(voting_model_cv_result[\"test_score\"])"
      ],
      "metadata": {
        "colab": {
          "base_uri": "https://localhost:8080/"
        },
        "id": "U6xhWuvcSfTL",
        "outputId": "239a7c88-3a32-4be8-af15-69cfad6ea473"
      },
      "execution_count": 61,
      "outputs": [
        {
          "output_type": "execute_result",
          "data": {
            "text/plain": [
              "0.6831666666666667"
            ]
          },
          "metadata": {},
          "execution_count": 61
        }
      ]
    },
    {
      "cell_type": "markdown",
      "source": [
        "**The accuracy score for Voting Ensemble Model for,**\n",
        "\n",
        "**Test score is 0.683**\n",
        "**Train score is 0.685**"
      ],
      "metadata": {
        "id": "ewuZb9-OVQEL"
      }
    },
    {
      "cell_type": "markdown",
      "source": [
        "# Stacking Classifier"
      ],
      "metadata": {
        "id": "bcXRpyl_S-j7"
      }
    },
    {
      "cell_type": "code",
      "source": [
        "from sklearn.ensemble import StackingClassifier\n",
        "from sklearn.model_selection import cross_validate\n",
        "from sklearn.linear_model import LogisticRegression\n",
        "from sklearn.ensemble import GradientBoostingClassifier\n",
        "from sklearn.naive_bayes import GaussianNB\n",
        "\n",
        "\n",
        "# Define individual base classifiers\n",
        "log_reg_model = LogisticRegression()\n",
        "gb_model = GradientBoostingClassifier(n_estimators=100, random_state=42)\n",
        "nb_model = GaussianNB()\n",
        "\n",
        "# Define the meta-classifier\n",
        "meta_classifier = LogisticRegression()\n",
        "\n",
        "# Create a StackingClassifier\n",
        "stacking_classifier = StackingClassifier(\n",
        "    estimators=[('log_reg', log_reg_model), ('gb', gb_model), ('nb', nb_model)],\n",
        "    final_estimator=meta_classifier,\n",
        "    stack_method='auto',  # You can also use 'predict_proba' or 'decision_function'\n",
        "    cv=5  # Number of cross-validation folds for training the meta-classifier\n",
        ")\n",
        "\n",
        "# Train the StackingClassifier using cross-validation\n",
        "stacking_model_cv_result = cross_validate(stacking_classifier, X_train[:6000, :], y_train[:6000],\n",
        "                                          scoring='accuracy', return_estimator=True,\n",
        "                                          return_train_score=True, cv=5, verbose=2)\n",
        "\n"
      ],
      "metadata": {
        "id": "WZOl7e6B2QzC",
        "colab": {
          "base_uri": "https://localhost:8080/"
        },
        "outputId": "e7089e6b-246d-464b-8f93-e5bfd1ca20bb"
      },
      "execution_count": 66,
      "outputs": [
        {
          "output_type": "stream",
          "name": "stdout",
          "text": [
            "[CV] END .................................................... total time=  19.8s\n",
            "[CV] END .................................................... total time=  22.9s\n",
            "[CV] END .................................................... total time=  19.7s\n",
            "[CV] END .................................................... total time=  19.9s\n",
            "[CV] END .................................................... total time=  17.7s\n"
          ]
        }
      ]
    },
    {
      "cell_type": "code",
      "source": [
        "# Mean training accuracy\n",
        "np.mean(stacking_model_cv_result[\"train_score\"])"
      ],
      "metadata": {
        "colab": {
          "base_uri": "https://localhost:8080/"
        },
        "id": "Zp2es8PGUEYB",
        "outputId": "5467ad92-2dbb-4fdd-cbf2-f3517090ede1"
      },
      "execution_count": 67,
      "outputs": [
        {
          "output_type": "execute_result",
          "data": {
            "text/plain": [
              "0.6961666666666666"
            ]
          },
          "metadata": {},
          "execution_count": 67
        }
      ]
    },
    {
      "cell_type": "code",
      "source": [
        "# Mean testing accuracy\n",
        "np.mean(stacking_model_cv_result[\"test_score\"])"
      ],
      "metadata": {
        "colab": {
          "base_uri": "https://localhost:8080/"
        },
        "id": "wey5i0E3UFCt",
        "outputId": "ccf6ed86-f10a-4fa2-bedf-eb18d6ebd3e6"
      },
      "execution_count": 68,
      "outputs": [
        {
          "output_type": "execute_result",
          "data": {
            "text/plain": [
              "0.6930000000000001"
            ]
          },
          "metadata": {},
          "execution_count": 68
        }
      ]
    },
    {
      "cell_type": "markdown",
      "source": [
        "**The accuracy score for Stacking Classifier Model for,**\n",
        "\n",
        "**Test score is 0.693**\n",
        "**Train score is 0.696**"
      ],
      "metadata": {
        "id": "du6uGyRjVYL3"
      }
    },
    {
      "cell_type": "markdown",
      "source": [
        "# Among all the models, Random Forest Regressor is performing well with accuracy scores as:\n",
        "\n",
        "**Test Data Accuracy Score:** 0.690\n",
        "\n",
        "**Train Data Accuracy Score:** 0.691\n"
      ],
      "metadata": {
        "id": "7ZoVOxuAVBqL"
      }
    }
  ]
}